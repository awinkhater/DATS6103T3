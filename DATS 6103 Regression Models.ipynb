{
 "cells": [
  {
   "cell_type": "code",
   "execution_count": 25,
   "id": "d05251d3",
   "metadata": {},
   "outputs": [],
   "source": [
    "import numpy as np\n",
    "import pandas as pd\n",
    "\n",
    "from sklearn.model_selection import train_test_split\n",
    "from sklearn.linear_model import LinearRegression\n",
    "from sklearn.preprocessing import PolynomialFeatures\n",
    "from sklearn.neighbors import KNeighborsRegressor\n",
    "from sklearn.metrics import mean_absolute_error,mean_squared_error\n",
    "from sklearn.metrics import r2_score"
   ]
  },
  {
   "cell_type": "code",
   "execution_count": 26,
   "id": "99a23a72",
   "metadata": {},
   "outputs": [
    {
     "name": "stdout",
     "output_type": "stream",
     "text": [
      "<class 'pandas.core.frame.DataFrame'>\n",
      "RangeIndex: 114000 entries, 0 to 113999\n",
      "Data columns (total 21 columns):\n",
      " #   Column            Non-Null Count   Dtype  \n",
      "---  ------            --------------   -----  \n",
      " 0   Unnamed: 0        114000 non-null  int64  \n",
      " 1   track_id          114000 non-null  object \n",
      " 2   artists           113999 non-null  object \n",
      " 3   album_name        113999 non-null  object \n",
      " 4   track_name        113999 non-null  object \n",
      " 5   popularity        114000 non-null  int64  \n",
      " 6   duration_ms       114000 non-null  int64  \n",
      " 7   explicit          114000 non-null  bool   \n",
      " 8   danceability      114000 non-null  float64\n",
      " 9   energy            114000 non-null  float64\n",
      " 10  key               114000 non-null  int64  \n",
      " 11  loudness          114000 non-null  float64\n",
      " 12  mode              114000 non-null  int64  \n",
      " 13  speechiness       114000 non-null  float64\n",
      " 14  acousticness      114000 non-null  float64\n",
      " 15  instrumentalness  114000 non-null  float64\n",
      " 16  liveness          114000 non-null  float64\n",
      " 17  valence           114000 non-null  float64\n",
      " 18  tempo             114000 non-null  float64\n",
      " 19  time_signature    114000 non-null  int64  \n",
      " 20  track_genre       114000 non-null  object \n",
      "dtypes: bool(1), float64(9), int64(6), object(5)\n",
      "memory usage: 17.5+ MB\n",
      "None\n"
     ]
    },
    {
     "data": {
      "text/html": [
       "<div>\n",
       "<style scoped>\n",
       "    .dataframe tbody tr th:only-of-type {\n",
       "        vertical-align: middle;\n",
       "    }\n",
       "\n",
       "    .dataframe tbody tr th {\n",
       "        vertical-align: top;\n",
       "    }\n",
       "\n",
       "    .dataframe thead th {\n",
       "        text-align: right;\n",
       "    }\n",
       "</style>\n",
       "<table border=\"1\" class=\"dataframe\">\n",
       "  <thead>\n",
       "    <tr style=\"text-align: right;\">\n",
       "      <th></th>\n",
       "      <th>Unnamed: 0</th>\n",
       "      <th>track_id</th>\n",
       "      <th>artists</th>\n",
       "      <th>album_name</th>\n",
       "      <th>track_name</th>\n",
       "      <th>popularity</th>\n",
       "      <th>duration_ms</th>\n",
       "      <th>explicit</th>\n",
       "      <th>danceability</th>\n",
       "      <th>energy</th>\n",
       "      <th>...</th>\n",
       "      <th>loudness</th>\n",
       "      <th>mode</th>\n",
       "      <th>speechiness</th>\n",
       "      <th>acousticness</th>\n",
       "      <th>instrumentalness</th>\n",
       "      <th>liveness</th>\n",
       "      <th>valence</th>\n",
       "      <th>tempo</th>\n",
       "      <th>time_signature</th>\n",
       "      <th>track_genre</th>\n",
       "    </tr>\n",
       "  </thead>\n",
       "  <tbody>\n",
       "    <tr>\n",
       "      <th>0</th>\n",
       "      <td>0</td>\n",
       "      <td>5SuOikwiRyPMVoIQDJUgSV</td>\n",
       "      <td>Gen Hoshino</td>\n",
       "      <td>Comedy</td>\n",
       "      <td>Comedy</td>\n",
       "      <td>73</td>\n",
       "      <td>230666</td>\n",
       "      <td>False</td>\n",
       "      <td>0.676</td>\n",
       "      <td>0.4610</td>\n",
       "      <td>...</td>\n",
       "      <td>-6.746</td>\n",
       "      <td>0</td>\n",
       "      <td>0.1430</td>\n",
       "      <td>0.0322</td>\n",
       "      <td>0.000001</td>\n",
       "      <td>0.3580</td>\n",
       "      <td>0.715</td>\n",
       "      <td>87.917</td>\n",
       "      <td>4</td>\n",
       "      <td>acoustic</td>\n",
       "    </tr>\n",
       "    <tr>\n",
       "      <th>1</th>\n",
       "      <td>1</td>\n",
       "      <td>4qPNDBW1i3p13qLCt0Ki3A</td>\n",
       "      <td>Ben Woodward</td>\n",
       "      <td>Ghost (Acoustic)</td>\n",
       "      <td>Ghost - Acoustic</td>\n",
       "      <td>55</td>\n",
       "      <td>149610</td>\n",
       "      <td>False</td>\n",
       "      <td>0.420</td>\n",
       "      <td>0.1660</td>\n",
       "      <td>...</td>\n",
       "      <td>-17.235</td>\n",
       "      <td>1</td>\n",
       "      <td>0.0763</td>\n",
       "      <td>0.9240</td>\n",
       "      <td>0.000006</td>\n",
       "      <td>0.1010</td>\n",
       "      <td>0.267</td>\n",
       "      <td>77.489</td>\n",
       "      <td>4</td>\n",
       "      <td>acoustic</td>\n",
       "    </tr>\n",
       "    <tr>\n",
       "      <th>2</th>\n",
       "      <td>2</td>\n",
       "      <td>1iJBSr7s7jYXzM8EGcbK5b</td>\n",
       "      <td>Ingrid Michaelson;ZAYN</td>\n",
       "      <td>To Begin Again</td>\n",
       "      <td>To Begin Again</td>\n",
       "      <td>57</td>\n",
       "      <td>210826</td>\n",
       "      <td>False</td>\n",
       "      <td>0.438</td>\n",
       "      <td>0.3590</td>\n",
       "      <td>...</td>\n",
       "      <td>-9.734</td>\n",
       "      <td>1</td>\n",
       "      <td>0.0557</td>\n",
       "      <td>0.2100</td>\n",
       "      <td>0.000000</td>\n",
       "      <td>0.1170</td>\n",
       "      <td>0.120</td>\n",
       "      <td>76.332</td>\n",
       "      <td>4</td>\n",
       "      <td>acoustic</td>\n",
       "    </tr>\n",
       "    <tr>\n",
       "      <th>3</th>\n",
       "      <td>3</td>\n",
       "      <td>6lfxq3CG4xtTiEg7opyCyx</td>\n",
       "      <td>Kina Grannis</td>\n",
       "      <td>Crazy Rich Asians (Original Motion Picture Sou...</td>\n",
       "      <td>Can't Help Falling In Love</td>\n",
       "      <td>71</td>\n",
       "      <td>201933</td>\n",
       "      <td>False</td>\n",
       "      <td>0.266</td>\n",
       "      <td>0.0596</td>\n",
       "      <td>...</td>\n",
       "      <td>-18.515</td>\n",
       "      <td>1</td>\n",
       "      <td>0.0363</td>\n",
       "      <td>0.9050</td>\n",
       "      <td>0.000071</td>\n",
       "      <td>0.1320</td>\n",
       "      <td>0.143</td>\n",
       "      <td>181.740</td>\n",
       "      <td>3</td>\n",
       "      <td>acoustic</td>\n",
       "    </tr>\n",
       "    <tr>\n",
       "      <th>4</th>\n",
       "      <td>4</td>\n",
       "      <td>5vjLSffimiIP26QG5WcN2K</td>\n",
       "      <td>Chord Overstreet</td>\n",
       "      <td>Hold On</td>\n",
       "      <td>Hold On</td>\n",
       "      <td>82</td>\n",
       "      <td>198853</td>\n",
       "      <td>False</td>\n",
       "      <td>0.618</td>\n",
       "      <td>0.4430</td>\n",
       "      <td>...</td>\n",
       "      <td>-9.681</td>\n",
       "      <td>1</td>\n",
       "      <td>0.0526</td>\n",
       "      <td>0.4690</td>\n",
       "      <td>0.000000</td>\n",
       "      <td>0.0829</td>\n",
       "      <td>0.167</td>\n",
       "      <td>119.949</td>\n",
       "      <td>4</td>\n",
       "      <td>acoustic</td>\n",
       "    </tr>\n",
       "  </tbody>\n",
       "</table>\n",
       "<p>5 rows × 21 columns</p>\n",
       "</div>"
      ],
      "text/plain": [
       "   Unnamed: 0                track_id                 artists  \\\n",
       "0           0  5SuOikwiRyPMVoIQDJUgSV             Gen Hoshino   \n",
       "1           1  4qPNDBW1i3p13qLCt0Ki3A            Ben Woodward   \n",
       "2           2  1iJBSr7s7jYXzM8EGcbK5b  Ingrid Michaelson;ZAYN   \n",
       "3           3  6lfxq3CG4xtTiEg7opyCyx            Kina Grannis   \n",
       "4           4  5vjLSffimiIP26QG5WcN2K        Chord Overstreet   \n",
       "\n",
       "                                          album_name  \\\n",
       "0                                             Comedy   \n",
       "1                                   Ghost (Acoustic)   \n",
       "2                                     To Begin Again   \n",
       "3  Crazy Rich Asians (Original Motion Picture Sou...   \n",
       "4                                            Hold On   \n",
       "\n",
       "                   track_name  popularity  duration_ms  explicit  \\\n",
       "0                      Comedy          73       230666     False   \n",
       "1            Ghost - Acoustic          55       149610     False   \n",
       "2              To Begin Again          57       210826     False   \n",
       "3  Can't Help Falling In Love          71       201933     False   \n",
       "4                     Hold On          82       198853     False   \n",
       "\n",
       "   danceability  energy  ...  loudness  mode  speechiness  acousticness  \\\n",
       "0         0.676  0.4610  ...    -6.746     0       0.1430        0.0322   \n",
       "1         0.420  0.1660  ...   -17.235     1       0.0763        0.9240   \n",
       "2         0.438  0.3590  ...    -9.734     1       0.0557        0.2100   \n",
       "3         0.266  0.0596  ...   -18.515     1       0.0363        0.9050   \n",
       "4         0.618  0.4430  ...    -9.681     1       0.0526        0.4690   \n",
       "\n",
       "   instrumentalness  liveness  valence    tempo  time_signature  track_genre  \n",
       "0          0.000001    0.3580    0.715   87.917               4     acoustic  \n",
       "1          0.000006    0.1010    0.267   77.489               4     acoustic  \n",
       "2          0.000000    0.1170    0.120   76.332               4     acoustic  \n",
       "3          0.000071    0.1320    0.143  181.740               3     acoustic  \n",
       "4          0.000000    0.0829    0.167  119.949               4     acoustic  \n",
       "\n",
       "[5 rows x 21 columns]"
      ]
     },
     "execution_count": 26,
     "metadata": {},
     "output_type": "execute_result"
    }
   ],
   "source": [
    "full_spot_data = pd.read_csv(\"spotify_dataset.csv\")\n",
    "print(full_spot_data.info())\n",
    "full_spot_data.head()"
   ]
  },
  {
   "cell_type": "code",
   "execution_count": 27,
   "id": "154dc3d8",
   "metadata": {},
   "outputs": [
    {
     "name": "stdout",
     "output_type": "stream",
     "text": [
      "<class 'pandas.core.frame.DataFrame'>\n",
      "RangeIndex: 114000 entries, 0 to 113999\n",
      "Data columns (total 16 columns):\n",
      " #   Column            Non-Null Count   Dtype  \n",
      "---  ------            --------------   -----  \n",
      " 0   track_id          114000 non-null  object \n",
      " 1   popularity        114000 non-null  int64  \n",
      " 2   duration_ms       114000 non-null  int64  \n",
      " 3   danceability      114000 non-null  float64\n",
      " 4   explicit          114000 non-null  bool   \n",
      " 5   key               114000 non-null  int64  \n",
      " 6   energy            114000 non-null  float64\n",
      " 7   loudness          114000 non-null  float64\n",
      " 8   mode              114000 non-null  int64  \n",
      " 9   liveness          114000 non-null  float64\n",
      " 10  speechiness       114000 non-null  float64\n",
      " 11  instrumentalness  114000 non-null  float64\n",
      " 12  acousticness      114000 non-null  float64\n",
      " 13  valence           114000 non-null  float64\n",
      " 14  tempo             114000 non-null  float64\n",
      " 15  time_signature    114000 non-null  int64  \n",
      "dtypes: bool(1), float64(9), int64(5), object(1)\n",
      "memory usage: 13.2+ MB\n",
      "None\n"
     ]
    },
    {
     "data": {
      "text/html": [
       "<div>\n",
       "<style scoped>\n",
       "    .dataframe tbody tr th:only-of-type {\n",
       "        vertical-align: middle;\n",
       "    }\n",
       "\n",
       "    .dataframe tbody tr th {\n",
       "        vertical-align: top;\n",
       "    }\n",
       "\n",
       "    .dataframe thead th {\n",
       "        text-align: right;\n",
       "    }\n",
       "</style>\n",
       "<table border=\"1\" class=\"dataframe\">\n",
       "  <thead>\n",
       "    <tr style=\"text-align: right;\">\n",
       "      <th></th>\n",
       "      <th>track_id</th>\n",
       "      <th>popularity</th>\n",
       "      <th>duration_ms</th>\n",
       "      <th>danceability</th>\n",
       "      <th>explicit</th>\n",
       "      <th>key</th>\n",
       "      <th>energy</th>\n",
       "      <th>loudness</th>\n",
       "      <th>mode</th>\n",
       "      <th>liveness</th>\n",
       "      <th>speechiness</th>\n",
       "      <th>instrumentalness</th>\n",
       "      <th>acousticness</th>\n",
       "      <th>valence</th>\n",
       "      <th>tempo</th>\n",
       "      <th>time_signature</th>\n",
       "    </tr>\n",
       "  </thead>\n",
       "  <tbody>\n",
       "    <tr>\n",
       "      <th>0</th>\n",
       "      <td>5SuOikwiRyPMVoIQDJUgSV</td>\n",
       "      <td>73</td>\n",
       "      <td>230666</td>\n",
       "      <td>0.676</td>\n",
       "      <td>False</td>\n",
       "      <td>1</td>\n",
       "      <td>0.4610</td>\n",
       "      <td>-6.746</td>\n",
       "      <td>0</td>\n",
       "      <td>0.3580</td>\n",
       "      <td>0.1430</td>\n",
       "      <td>0.000001</td>\n",
       "      <td>0.0322</td>\n",
       "      <td>0.715</td>\n",
       "      <td>87.917</td>\n",
       "      <td>4</td>\n",
       "    </tr>\n",
       "    <tr>\n",
       "      <th>1</th>\n",
       "      <td>4qPNDBW1i3p13qLCt0Ki3A</td>\n",
       "      <td>55</td>\n",
       "      <td>149610</td>\n",
       "      <td>0.420</td>\n",
       "      <td>False</td>\n",
       "      <td>1</td>\n",
       "      <td>0.1660</td>\n",
       "      <td>-17.235</td>\n",
       "      <td>1</td>\n",
       "      <td>0.1010</td>\n",
       "      <td>0.0763</td>\n",
       "      <td>0.000006</td>\n",
       "      <td>0.9240</td>\n",
       "      <td>0.267</td>\n",
       "      <td>77.489</td>\n",
       "      <td>4</td>\n",
       "    </tr>\n",
       "    <tr>\n",
       "      <th>2</th>\n",
       "      <td>1iJBSr7s7jYXzM8EGcbK5b</td>\n",
       "      <td>57</td>\n",
       "      <td>210826</td>\n",
       "      <td>0.438</td>\n",
       "      <td>False</td>\n",
       "      <td>0</td>\n",
       "      <td>0.3590</td>\n",
       "      <td>-9.734</td>\n",
       "      <td>1</td>\n",
       "      <td>0.1170</td>\n",
       "      <td>0.0557</td>\n",
       "      <td>0.000000</td>\n",
       "      <td>0.2100</td>\n",
       "      <td>0.120</td>\n",
       "      <td>76.332</td>\n",
       "      <td>4</td>\n",
       "    </tr>\n",
       "    <tr>\n",
       "      <th>3</th>\n",
       "      <td>6lfxq3CG4xtTiEg7opyCyx</td>\n",
       "      <td>71</td>\n",
       "      <td>201933</td>\n",
       "      <td>0.266</td>\n",
       "      <td>False</td>\n",
       "      <td>0</td>\n",
       "      <td>0.0596</td>\n",
       "      <td>-18.515</td>\n",
       "      <td>1</td>\n",
       "      <td>0.1320</td>\n",
       "      <td>0.0363</td>\n",
       "      <td>0.000071</td>\n",
       "      <td>0.9050</td>\n",
       "      <td>0.143</td>\n",
       "      <td>181.740</td>\n",
       "      <td>3</td>\n",
       "    </tr>\n",
       "    <tr>\n",
       "      <th>4</th>\n",
       "      <td>5vjLSffimiIP26QG5WcN2K</td>\n",
       "      <td>82</td>\n",
       "      <td>198853</td>\n",
       "      <td>0.618</td>\n",
       "      <td>False</td>\n",
       "      <td>2</td>\n",
       "      <td>0.4430</td>\n",
       "      <td>-9.681</td>\n",
       "      <td>1</td>\n",
       "      <td>0.0829</td>\n",
       "      <td>0.0526</td>\n",
       "      <td>0.000000</td>\n",
       "      <td>0.4690</td>\n",
       "      <td>0.167</td>\n",
       "      <td>119.949</td>\n",
       "      <td>4</td>\n",
       "    </tr>\n",
       "  </tbody>\n",
       "</table>\n",
       "</div>"
      ],
      "text/plain": [
       "                 track_id  popularity  duration_ms  danceability  explicit  \\\n",
       "0  5SuOikwiRyPMVoIQDJUgSV          73       230666         0.676     False   \n",
       "1  4qPNDBW1i3p13qLCt0Ki3A          55       149610         0.420     False   \n",
       "2  1iJBSr7s7jYXzM8EGcbK5b          57       210826         0.438     False   \n",
       "3  6lfxq3CG4xtTiEg7opyCyx          71       201933         0.266     False   \n",
       "4  5vjLSffimiIP26QG5WcN2K          82       198853         0.618     False   \n",
       "\n",
       "   key  energy  loudness  mode  liveness  speechiness  instrumentalness  \\\n",
       "0    1  0.4610    -6.746     0    0.3580       0.1430          0.000001   \n",
       "1    1  0.1660   -17.235     1    0.1010       0.0763          0.000006   \n",
       "2    0  0.3590    -9.734     1    0.1170       0.0557          0.000000   \n",
       "3    0  0.0596   -18.515     1    0.1320       0.0363          0.000071   \n",
       "4    2  0.4430    -9.681     1    0.0829       0.0526          0.000000   \n",
       "\n",
       "   acousticness  valence    tempo  time_signature  \n",
       "0        0.0322    0.715   87.917               4  \n",
       "1        0.9240    0.267   77.489               4  \n",
       "2        0.2100    0.120   76.332               4  \n",
       "3        0.9050    0.143  181.740               3  \n",
       "4        0.4690    0.167  119.949               4  "
      ]
     },
     "execution_count": 27,
     "metadata": {},
     "output_type": "execute_result"
    }
   ],
   "source": [
    "req_spot_data = full_spot_data[[\"track_id\",\"popularity\",\"duration_ms\",\"danceability\",\"explicit\",\n",
    "                                \"key\",\"energy\",\"loudness\",\"mode\",\"liveness\",\"speechiness\",\n",
    "                                \"instrumentalness\",\"acousticness\",\"valence\",\"tempo\",\n",
    "                                \"time_signature\"]]\n",
    "print(req_spot_data.info())\n",
    "req_spot_data.head()"
   ]
  },
  {
   "cell_type": "code",
   "execution_count": 28,
   "id": "f785ce6a",
   "metadata": {},
   "outputs": [
    {
     "name": "stderr",
     "output_type": "stream",
     "text": [
      "<ipython-input-28-9655b7613128>:5: SettingWithCopyWarning: \n",
      "A value is trying to be set on a copy of a slice from a DataFrame.\n",
      "Try using .loc[row_indexer,col_indexer] = value instead\n",
      "\n",
      "See the caveats in the documentation: https://pandas.pydata.org/pandas-docs/stable/user_guide/indexing.html#returning-a-view-versus-a-copy\n",
      "  req_spot_data['duration_ms'] = req_spot_data['duration_ms'].apply(mil_to_sec)\n",
      "c:\\Users\\alexw\\anaconda3\\lib\\site-packages\\pandas\\core\\frame.py:4441: SettingWithCopyWarning: \n",
      "A value is trying to be set on a copy of a slice from a DataFrame\n",
      "\n",
      "See the caveats in the documentation: https://pandas.pydata.org/pandas-docs/stable/user_guide/indexing.html#returning-a-view-versus-a-copy\n",
      "  return super().rename(\n"
     ]
    },
    {
     "data": {
      "text/html": [
       "<div>\n",
       "<style scoped>\n",
       "    .dataframe tbody tr th:only-of-type {\n",
       "        vertical-align: middle;\n",
       "    }\n",
       "\n",
       "    .dataframe tbody tr th {\n",
       "        vertical-align: top;\n",
       "    }\n",
       "\n",
       "    .dataframe thead th {\n",
       "        text-align: right;\n",
       "    }\n",
       "</style>\n",
       "<table border=\"1\" class=\"dataframe\">\n",
       "  <thead>\n",
       "    <tr style=\"text-align: right;\">\n",
       "      <th></th>\n",
       "      <th>track_id</th>\n",
       "      <th>popularity</th>\n",
       "      <th>duration_sec</th>\n",
       "      <th>danceability</th>\n",
       "      <th>explicit</th>\n",
       "      <th>key</th>\n",
       "      <th>energy</th>\n",
       "      <th>loudness</th>\n",
       "      <th>mode</th>\n",
       "      <th>liveness</th>\n",
       "      <th>speechiness</th>\n",
       "      <th>instrumentalness</th>\n",
       "      <th>acousticness</th>\n",
       "      <th>valence</th>\n",
       "      <th>tempo</th>\n",
       "      <th>time_signature</th>\n",
       "    </tr>\n",
       "  </thead>\n",
       "  <tbody>\n",
       "    <tr>\n",
       "      <th>0</th>\n",
       "      <td>5SuOikwiRyPMVoIQDJUgSV</td>\n",
       "      <td>73</td>\n",
       "      <td>230.666</td>\n",
       "      <td>0.676</td>\n",
       "      <td>False</td>\n",
       "      <td>1</td>\n",
       "      <td>0.4610</td>\n",
       "      <td>-6.746</td>\n",
       "      <td>0</td>\n",
       "      <td>0.3580</td>\n",
       "      <td>0.1430</td>\n",
       "      <td>0.000001</td>\n",
       "      <td>0.0322</td>\n",
       "      <td>0.715</td>\n",
       "      <td>87.917</td>\n",
       "      <td>4</td>\n",
       "    </tr>\n",
       "    <tr>\n",
       "      <th>1</th>\n",
       "      <td>4qPNDBW1i3p13qLCt0Ki3A</td>\n",
       "      <td>55</td>\n",
       "      <td>149.610</td>\n",
       "      <td>0.420</td>\n",
       "      <td>False</td>\n",
       "      <td>1</td>\n",
       "      <td>0.1660</td>\n",
       "      <td>-17.235</td>\n",
       "      <td>1</td>\n",
       "      <td>0.1010</td>\n",
       "      <td>0.0763</td>\n",
       "      <td>0.000006</td>\n",
       "      <td>0.9240</td>\n",
       "      <td>0.267</td>\n",
       "      <td>77.489</td>\n",
       "      <td>4</td>\n",
       "    </tr>\n",
       "    <tr>\n",
       "      <th>2</th>\n",
       "      <td>1iJBSr7s7jYXzM8EGcbK5b</td>\n",
       "      <td>57</td>\n",
       "      <td>210.826</td>\n",
       "      <td>0.438</td>\n",
       "      <td>False</td>\n",
       "      <td>0</td>\n",
       "      <td>0.3590</td>\n",
       "      <td>-9.734</td>\n",
       "      <td>1</td>\n",
       "      <td>0.1170</td>\n",
       "      <td>0.0557</td>\n",
       "      <td>0.000000</td>\n",
       "      <td>0.2100</td>\n",
       "      <td>0.120</td>\n",
       "      <td>76.332</td>\n",
       "      <td>4</td>\n",
       "    </tr>\n",
       "    <tr>\n",
       "      <th>3</th>\n",
       "      <td>6lfxq3CG4xtTiEg7opyCyx</td>\n",
       "      <td>71</td>\n",
       "      <td>201.933</td>\n",
       "      <td>0.266</td>\n",
       "      <td>False</td>\n",
       "      <td>0</td>\n",
       "      <td>0.0596</td>\n",
       "      <td>-18.515</td>\n",
       "      <td>1</td>\n",
       "      <td>0.1320</td>\n",
       "      <td>0.0363</td>\n",
       "      <td>0.000071</td>\n",
       "      <td>0.9050</td>\n",
       "      <td>0.143</td>\n",
       "      <td>181.740</td>\n",
       "      <td>3</td>\n",
       "    </tr>\n",
       "    <tr>\n",
       "      <th>4</th>\n",
       "      <td>5vjLSffimiIP26QG5WcN2K</td>\n",
       "      <td>82</td>\n",
       "      <td>198.853</td>\n",
       "      <td>0.618</td>\n",
       "      <td>False</td>\n",
       "      <td>2</td>\n",
       "      <td>0.4430</td>\n",
       "      <td>-9.681</td>\n",
       "      <td>1</td>\n",
       "      <td>0.0829</td>\n",
       "      <td>0.0526</td>\n",
       "      <td>0.000000</td>\n",
       "      <td>0.4690</td>\n",
       "      <td>0.167</td>\n",
       "      <td>119.949</td>\n",
       "      <td>4</td>\n",
       "    </tr>\n",
       "  </tbody>\n",
       "</table>\n",
       "</div>"
      ],
      "text/plain": [
       "                 track_id  popularity  duration_sec  danceability  explicit  \\\n",
       "0  5SuOikwiRyPMVoIQDJUgSV          73       230.666         0.676     False   \n",
       "1  4qPNDBW1i3p13qLCt0Ki3A          55       149.610         0.420     False   \n",
       "2  1iJBSr7s7jYXzM8EGcbK5b          57       210.826         0.438     False   \n",
       "3  6lfxq3CG4xtTiEg7opyCyx          71       201.933         0.266     False   \n",
       "4  5vjLSffimiIP26QG5WcN2K          82       198.853         0.618     False   \n",
       "\n",
       "   key  energy  loudness  mode  liveness  speechiness  instrumentalness  \\\n",
       "0    1  0.4610    -6.746     0    0.3580       0.1430          0.000001   \n",
       "1    1  0.1660   -17.235     1    0.1010       0.0763          0.000006   \n",
       "2    0  0.3590    -9.734     1    0.1170       0.0557          0.000000   \n",
       "3    0  0.0596   -18.515     1    0.1320       0.0363          0.000071   \n",
       "4    2  0.4430    -9.681     1    0.0829       0.0526          0.000000   \n",
       "\n",
       "   acousticness  valence    tempo  time_signature  \n",
       "0        0.0322    0.715   87.917               4  \n",
       "1        0.9240    0.267   77.489               4  \n",
       "2        0.2100    0.120   76.332               4  \n",
       "3        0.9050    0.143  181.740               3  \n",
       "4        0.4690    0.167  119.949               4  "
      ]
     },
     "execution_count": 28,
     "metadata": {},
     "output_type": "execute_result"
    }
   ],
   "source": [
    "# Converting milliseconds to seconds\n",
    "def mil_to_sec(time):\n",
    "    return time/1000\n",
    "\n",
    "req_spot_data['duration_ms'] = req_spot_data['duration_ms'].apply(mil_to_sec)\n",
    "req_spot_data.rename(columns = {'duration_ms':'duration_sec'}, inplace = True)\n",
    "#req_spot_data.rename(columns = {'mode':'audio_type'}, inplace = True)\n",
    "req_spot_data.head()"
   ]
  },
  {
   "cell_type": "markdown",
   "id": "e034afa7",
   "metadata": {},
   "source": [
    "<h3>Model Building</h3>"
   ]
  },
  {
   "cell_type": "code",
   "execution_count": 90,
   "id": "3866deff",
   "metadata": {},
   "outputs": [
    {
     "name": "stdout",
     "output_type": "stream",
     "text": [
      "[False, True]\n",
      "   popularity  duration_sec  danceability  explicit  key  energy  loudness  \\\n",
      "0          73       230.666         0.676         0    1  0.4610    -6.746   \n",
      "1          55       149.610         0.420         0    1  0.1660   -17.235   \n",
      "2          57       210.826         0.438         0    0  0.3590    -9.734   \n",
      "3          71       201.933         0.266         0    0  0.0596   -18.515   \n",
      "4          82       198.853         0.618         0    2  0.4430    -9.681   \n",
      "\n",
      "   mode  liveness  speechiness  instrumentalness  acousticness  valence  \\\n",
      "0     0    0.3580       0.1430          0.000001        0.0322    0.715   \n",
      "1     1    0.1010       0.0763          0.000006        0.9240    0.267   \n",
      "2     1    0.1170       0.0557          0.000000        0.2100    0.120   \n",
      "3     1    0.1320       0.0363          0.000071        0.9050    0.143   \n",
      "4     1    0.0829       0.0526          0.000000        0.4690    0.167   \n",
      "\n",
      "     tempo  time_signature  \n",
      "0   87.917               4  \n",
      "1   77.489               4  \n",
      "2   76.332               4  \n",
      "3  181.740               3  \n",
      "4  119.949               4  \n"
     ]
    }
   ],
   "source": [
    "#A cautionary check for multicolinearity, something we suspect will be high because of the high variable correlations\n",
    "from statsmodels.stats.outliers_influence import variance_inflation_factor\n",
    "rsd= req_spot_data.copy(deep=True)\n",
    "rsd.drop(['track_id'], axis =1, inplace=True)\n",
    "def encode(x):\n",
    "    if x =='True': return(np.int(1))\n",
    "    else: return(np.int(0))\n",
    "print(rsd.explicit.unique().tolist())\n",
    "rsd['explicit']=rsd['explicit'].apply(lambda x: encode(x))\n",
    "print(rsd.head())                      "
   ]
  },
  {
   "cell_type": "code",
   "execution_count": 91,
   "id": "29e626f2",
   "metadata": {},
   "outputs": [
    {
     "name": "stderr",
     "output_type": "stream",
     "text": [
      "c:\\Users\\alexw\\anaconda3\\lib\\site-packages\\statsmodels\\regression\\linear_model.py:1717: RuntimeWarning: invalid value encountered in double_scalars\n",
      "  return 1 - self.ssr/self.uncentered_tss\n"
     ]
    },
    {
     "name": "stdout",
     "output_type": "stream",
     "text": [
      "             feature        VIF\n",
      "0         popularity   3.256206\n",
      "1       duration_sec   5.689349\n",
      "2       danceability  16.326415\n",
      "3           explicit        NaN\n",
      "4                key   3.251025\n",
      "5             energy  23.960023\n",
      "6           loudness   9.224829\n",
      "7               mode   2.816211\n",
      "8           liveness   2.576724\n",
      "9        speechiness   1.849534\n",
      "10  instrumentalness   1.831285\n",
      "11      acousticness   3.987242\n",
      "12           valence   6.812459\n",
      "13             tempo  17.373970\n",
      "14    time_signature  54.990126\n"
     ]
    }
   ],
   "source": [
    "# VIF dataframe\n",
    "vif_data = pd.DataFrame()\n",
    "vif_data[\"feature\"] = rsd.columns\n",
    "  \n",
    "# calculating VIF for each feature\n",
    "vif_data[\"VIF\"] = [variance_inflation_factor(rsd.values, i)\n",
    "                          for i in range(len(rsd.columns))]\n",
    "  \n",
    "print(vif_data)"
   ]
  },
  {
   "attachments": {},
   "cell_type": "markdown",
   "id": "067de227",
   "metadata": {},
   "source": [
    "These VIF values are very bad and should be an early hint that our multiple linear regression attempts will fail,\n",
    "we will rely more effective (polynomial, KNN, Xboost) methods that bypass the multicolinearity concerns that the VIF scores raise.\n",
    "\n",
    "The multiple regression models here are made to demonstrate the mulicolinearity issue"
   ]
  },
  {
   "cell_type": "code",
   "execution_count": 29,
   "id": "1e006b61",
   "metadata": {},
   "outputs": [
    {
     "name": "stdout",
     "output_type": "stream",
     "text": [
      "Mean of Residuals popularity   -0.038862\n",
      "dtype: float64\n",
      "0.004693461307040958\n",
      "[[-4.69470103e-02 -5.32880387e-01  1.83010320e-01  2.48233629e-03\n",
      "   1.10333989e+00 -1.10042506e-03  3.03512629e+00]]\n"
     ]
    }
   ],
   "source": [
    "# Linear regression to predict popularity using traditional terms.\n",
    "x1 = req_spot_data[['key','mode', 'loudness', 'tempo', 'time_signature', 'duration_sec', 'explicit']]\n",
    "Y = req_spot_data[['popularity']]\n",
    "LR1 = LinearRegression()\n",
    "LR1.fit(x1, Y)\n",
    "x1_train, x1_test, Y1_train, Y1_test = train_test_split(x1, Y,random_state = 0,test_size=0.25)\n",
    "Y1_pred = LR1.predict(x1_train)\n",
    "residuals1 = Y1_train-Y1_pred\n",
    "mean_residuals1 = np.mean(residuals1)\n",
    "print(\"Mean of Residuals {}\".format(mean_residuals1))\n",
    "#Close enough to 0 for our purposes\n",
    "print(LR1.score(x1, Y))\n",
    "print(LR1.coef_)"
   ]
  },
  {
   "cell_type": "code",
   "execution_count": 47,
   "id": "9536e290",
   "metadata": {},
   "outputs": [
    {
     "name": "stdout",
     "output_type": "stream",
     "text": [
      "0.013591422676867415\n",
      "[[  2.84959778  -4.31480176 -10.76594002  -3.15493924  -7.12668554\n",
      "    0.95137308]]\n"
     ]
    }
   ],
   "source": [
    "# Linear regression to predict popularity using algo terms.\n",
    "x2 = req_spot_data[['danceability','energy', 'speechiness', 'acousticness', 'instrumentalness','liveness']]\n",
    "Y = req_spot_data[['popularity']]\n",
    "LR2 = LinearRegression()\n",
    "LR2.fit(x2, Y)\n",
    "x2_train, x2_test, Y2_train, Y2_test = train_test_split(x2, Y,random_state = 0,test_size=0.25)\n",
    "Y2_pred = LR2.predict(x2_train)\n",
    "residuals2 = Y2_train-Y2_pred\n",
    "mean_residuals2 = np.mean(residuals2)\n",
    "#print(\"Mean of Residuals {}\".format(mean_residuals2))\n",
    "#Close enough to 0 for our purposes\n",
    "print(LR2.score(x2, Y))\n",
    "print(LR2.coef_)"
   ]
  },
  {
   "cell_type": "code",
   "execution_count": 31,
   "id": "8c43609e",
   "metadata": {},
   "outputs": [
    {
     "name": "stdout",
     "output_type": "stream",
     "text": [
      "0.009000268335120243\n",
      "[[ 1.42934444e-01 -2.15328941e+00 -9.27297135e-03  6.28204157e-02\n",
      "   2.34293932e+00  3.87830936e-02 -4.28116643e+00 -5.35492209e-03\n",
      "   1.64686104e-01 -9.30596996e-03 -1.86216356e-03 -4.22333034e-02\n",
      "   4.17852276e-04 -7.67605762e-02 -2.15328941e+00 -1.38848139e-01\n",
      "  -4.61721753e-03 -1.18902110e-01  1.19974248e-02 -3.48776305e-02\n",
      "   6.28904566e-03 -1.54066530e-03  9.17117508e-02  1.58898804e-03\n",
      "  -6.47074052e-01 -2.91431663e-04  1.14014362e-02 -1.53579503e-04\n",
      "   3.59380857e-02 -8.24539012e-02 -3.32901304e-03  1.48615343e+00\n",
      "  -5.22102157e-07 -1.19842344e-02 -4.28116643e+00]]\n"
     ]
    }
   ],
   "source": [
    "# Using Polynomial Regression to predict popularity using traditional terms\n",
    "x1 = req_spot_data[['key','mode', 'loudness', 'tempo', 'time_signature', 'duration_sec', 'explicit']]\n",
    "Y = req_spot_data[['popularity']]\n",
    "\n",
    "from sklearn.preprocessing import PolynomialFeatures\n",
    "poly = PolynomialFeatures(degree=2, include_bias=False)\n",
    "poly_features = poly.fit_transform(x1)\n",
    "X_train, X_test, y_train, y_test = train_test_split(poly_features, Y, test_size=0.3, random_state=42)\n",
    "\n",
    "poly_reg_model = LinearRegression()\n",
    "poly_reg_model.fit(X_train, y_train)\n",
    "\n",
    "poly_reg_y_predicted = poly_reg_model.predict(X_test)\n",
    "from sklearn.metrics import mean_squared_error\n",
    "poly_reg_rmse = np.sqrt(mean_squared_error(y_test, poly_reg_y_predicted))\n",
    "poly_reg_rmse\n",
    "\n",
    "print(poly_reg_model.score(poly_features, Y))\n",
    "print(poly_reg_model.coef_)"
   ]
  },
  {
   "cell_type": "code",
   "execution_count": 32,
   "id": "9c4119cf",
   "metadata": {},
   "outputs": [
    {
     "name": "stdout",
     "output_type": "stream",
     "text": [
      "0.03363803498940787\n",
      "[[ 30.26425243   5.58991737 -17.20241437  -4.52851533   3.35736677\n",
      "  -16.42568881 -32.85477497  -7.77150379  11.03812421  23.65948698\n",
      "   -3.36457077  10.47922548  -7.5355097    3.10963301   3.69993333\n",
      "   -7.87188475   5.18869743  19.55772057  -6.44044935 -24.57303899\n",
      "  -23.18161395 -19.7750001    9.46638215   3.15337586  -2.90706789\n",
      "   -1.57492218  10.73170172]]\n"
     ]
    }
   ],
   "source": [
    "# Polynomial regression to predict popularity using algo terms.\n",
    "x2 = req_spot_data[['danceability','energy', 'speechiness', 'acousticness', 'instrumentalness','liveness']]\n",
    "Y = req_spot_data[['popularity']]\n",
    "poly_features2 = poly.fit_transform(x2)\n",
    "X_train, X_test, y_train, y_test = train_test_split(poly_features2, Y, test_size=0.3, random_state=42)\n",
    "\n",
    "poly_reg_model2 = LinearRegression()\n",
    "poly_reg_model2.fit(X_train, y_train)\n",
    "\n",
    "poly_reg_y_predicted2 = poly_reg_model2.predict(X_test)\n",
    "from sklearn.metrics import mean_squared_error\n",
    "poly_reg_rmse2 = np.sqrt(mean_squared_error(y_test, poly_reg_y_predicted))\n",
    "poly_reg_rmse2\n",
    "\n",
    "print(poly_reg_model2.score(poly_features2, Y))\n",
    "print(poly_reg_model2.coef_)"
   ]
  },
  {
   "cell_type": "code",
   "execution_count": 33,
   "id": "116ba79d",
   "metadata": {},
   "outputs": [
    {
     "name": "stdout",
     "output_type": "stream",
     "text": [
      "0.09624705312533544\n",
      "[[ 1.58044360e-04  3.76436851e-03  2.12266463e-01 -7.97254144e-02\n",
      "  -9.48794476e-02 -1.60198029e-01]]\n"
     ]
    }
   ],
   "source": [
    "# Predictiong dancability by using algo terms using linear regression\n",
    "X3 = req_spot_data[['popularity','energy', 'speechiness', 'acousticness', 'instrumentalness','liveness']]\n",
    "Y1 = req_spot_data[['danceability']]\n",
    "LR3 = LinearRegression()\n",
    "LR3.fit(X3,Y1)\n",
    "X3_train, X3_test, Y3_train, Y3_test = train_test_split(X3,Y1,random_state = 0,test_size = 0.25)\n",
    "Y3_pred = LR3.predict(X3_train)\n",
    "residuals3 = Y3_train-Y3_pred\n",
    "mean_residuals3 = np.mean(residuals3)\n",
    "print(LR3.score(X3, Y1))\n",
    "print(LR3.coef_)"
   ]
  },
  {
   "cell_type": "code",
   "execution_count": 34,
   "id": "284ec1c3",
   "metadata": {},
   "outputs": [
    {
     "name": "stdout",
     "output_type": "stream",
     "text": [
      "0.12124788733856284\n",
      "[[ 0.00093116 -0.01876585  0.00823288 -0.00063913  0.0663059  -0.00011238\n",
      "   0.05175285]]\n"
     ]
    }
   ],
   "source": [
    "# Linear regression by using traditional terms for predicting dancability\n",
    "X4 = req_spot_data[['key','mode', 'loudness', 'tempo', 'time_signature', 'duration_sec', 'explicit']]\n",
    "Y1 = req_spot_data[['danceability']]\n",
    "LR4 = LinearRegression()\n",
    "LR4.fit(X4,Y1)\n",
    "X4_train, X4_test, Y4_train, Y4_test = train_test_split(X4,Y1,random_state = 0,test_size = 0.25)\n",
    "Y4_pred = LR4.predict(X4_train)\n",
    "residuals4 = Y4_train-Y4_pred\n",
    "mean_residuals4 = np.mean(residuals4)\n",
    "print(LR4.score(X4, Y1))\n",
    "print(LR4.coef_)"
   ]
  },
  {
   "cell_type": "code",
   "execution_count": 35,
   "id": "92f5ed39",
   "metadata": {},
   "outputs": [
    {
     "name": "stdout",
     "output_type": "stream",
     "text": [
      "0.2388966961221054\n",
      "[[-2.23115992e-03  7.09839273e-01  1.15144006e+00  1.83016760e-02\n",
      "   4.09303330e-02 -3.58512540e-01  2.48639824e-05 -1.17216891e-04\n",
      "  -3.06346369e-04  1.33261358e-03  7.31072501e-04  7.65537499e-04\n",
      "  -5.95221279e-01 -8.93019956e-01  9.62981845e-02 -2.41793194e-02\n",
      "   1.98833531e-01 -7.26744288e-01  1.73951574e-01 -2.41091328e-01\n",
      "   9.70846143e-02 -1.89524816e-01 -6.48024664e-02  7.07209119e-02\n",
      "  -1.50532726e-03 -1.94725959e-01  6.38506931e-02]]\n"
     ]
    }
   ],
   "source": [
    "# Polynomial regression by using algo terms for dancability\n",
    "X3 = req_spot_data[['popularity','energy', 'speechiness', 'acousticness', 'instrumentalness','liveness']]\n",
    "Y1 = req_spot_data[['danceability']]\n",
    "poly_features3 = poly.fit_transform(X3)\n",
    "X3a_train, X3a_test, Y3a_train, Y3a_test = train_test_split(poly_features3, Y1, test_size=0.3, \n",
    "                                                            random_state=42)\n",
    "\n",
    "poly_reg_model3 = LinearRegression()\n",
    "poly_reg_model3.fit(X3a_train, Y3a_train)\n",
    "\n",
    "poly_reg_y_predicted3 = poly_reg_model3.predict(X3a_test)\n",
    "from sklearn.metrics import mean_squared_error\n",
    "poly_reg_rmse3 = np.sqrt(mean_squared_error(Y3a_test, poly_reg_y_predicted3))\n",
    "poly_reg_rmse3\n",
    "\n",
    "print(poly_reg_model3.score(poly_features3, Y1))\n",
    "print(poly_reg_model3.coef_)"
   ]
  },
  {
   "cell_type": "code",
   "execution_count": 36,
   "id": "5a949ebc",
   "metadata": {},
   "outputs": [
    {
     "name": "stdout",
     "output_type": "stream",
     "text": [
      "0.2253507730452139\n",
      "[[-9.55757593e-04  1.47827815e-02 -5.71581384e-03  7.10412211e-03\n",
      "   6.90251597e-02 -3.62711975e-04  5.68346734e-02  2.23530851e-04\n",
      "  -1.57472007e-03 -1.27261557e-04 -5.88536097e-06 -1.74385868e-05\n",
      "   2.25327936e-06 -8.08557014e-04  1.47827815e-02 -3.49923637e-04\n",
      "   2.61993932e-05 -1.00687326e-02 -1.53034427e-05 -9.78924774e-03\n",
      "  -3.98466771e-04 -5.11212757e-05  2.49246908e-03 -1.08507715e-06\n",
      "  -8.01896882e-03 -3.88286392e-05  3.98878911e-04  8.56189580e-07\n",
      "  -1.20520078e-04 -4.55295692e-03  8.15142382e-08 -1.40828663e-02\n",
      "   6.16431467e-08 -1.50182929e-04  5.68346734e-02]]\n"
     ]
    }
   ],
   "source": [
    "# Polynomial regression by using traditional terms for predicting dancability.\n",
    "X4 = req_spot_data[['key','mode', 'loudness', 'tempo', 'time_signature', 'duration_sec', 'explicit']]\n",
    "Y1 = req_spot_data[['danceability']]\n",
    "poly_features4 = poly.fit_transform(X4)\n",
    "X4a_train, X4a_test, Y4a_train, Y4a_test = train_test_split(poly_features4, Y1, test_size=0.3, random_state=42)\n",
    "\n",
    "poly_reg_model4 = LinearRegression()\n",
    "poly_reg_model4.fit(X4a_train, Y4a_train)\n",
    "\n",
    "poly_reg_y_predicted4 = poly_reg_model4.predict(X4a_test)\n",
    "poly_reg_rmse4 = np.sqrt(mean_squared_error(Y4a_test, poly_reg_y_predicted4))\n",
    "poly_reg_rmse4\n",
    "\n",
    "print(poly_reg_model4.score(poly_features4, Y1))\n",
    "print(poly_reg_model4.coef_)"
   ]
  },
  {
   "cell_type": "code",
   "execution_count": 37,
   "id": "dd5925cb",
   "metadata": {},
   "outputs": [
    {
     "name": "stdout",
     "output_type": "stream",
     "text": [
      "0.032701444935365975\n",
      "[[ 1.06423375e-03 -6.32166222e-01 -5.77546155e+01 -3.81656687e+01\n",
      "   4.63651152e+01  1.71979088e+01]]\n"
     ]
    }
   ],
   "source": [
    "# Linear regression using algo terms for determining duration of track.\n",
    "X5 = req_spot_data[['popularity','energy', 'speechiness', 'acousticness', 'instrumentalness','liveness']]\n",
    "Y2 = req_spot_data[['duration_sec']]\n",
    "LR5 = LinearRegression()\n",
    "LR5.fit(X5,Y2)\n",
    "X5_train, X5_test, Y5_train, Y5_test = train_test_split(X5,Y2,random_state = 0,test_size = 0.25)\n",
    "Y5_pred = LR5.predict(X5_train)\n",
    "residuals5 = Y5_train-Y5_pred\n",
    "mean_residuals5 = np.mean(residuals5)\n",
    "print(LR5.score(X5, Y2))\n",
    "print(LR5.coef_)"
   ]
  },
  {
   "cell_type": "code",
   "execution_count": 38,
   "id": "e3354ec2",
   "metadata": {},
   "outputs": [
    {
     "name": "stdout",
     "output_type": "stream",
     "text": [
      "0.0066743558993798136\n",
      "[[  0.09122327  -8.35945106  -0.14567837   0.0869586    4.84267852\n",
      "  -25.55945633]]\n"
     ]
    }
   ],
   "source": [
    "# Linear regression by using traditional terms for predicting duration of track.\n",
    "X6 = req_spot_data[['key','mode', 'loudness', 'tempo', 'time_signature', 'explicit']]\n",
    "Y2 = req_spot_data[['duration_sec']]\n",
    "LR6 = LinearRegression()\n",
    "LR6.fit(X6,Y2)\n",
    "X6_train, X6_test, Y6_train, Y6_test = train_test_split(X6,Y2,random_state = 0,test_size = 0.25)\n",
    "Y6_pred = LR6.predict(X6_train)\n",
    "residuals6 = Y6_train-Y6_pred\n",
    "mean_residuals6 = np.mean(residuals6)\n",
    "print(LR6.score(X6, Y2))\n",
    "print(LR6.coef_)"
   ]
  },
  {
   "cell_type": "code",
   "execution_count": 39,
   "id": "82c36c31",
   "metadata": {},
   "outputs": [
    {
     "name": "stdout",
     "output_type": "stream",
     "text": [
      "0.06850041031093868\n",
      "[[ 4.86744292e-01  5.97284329e+01 -2.87567059e+02 -7.70820156e+01\n",
      "   2.63744792e+02 -8.15000732e+00 -8.94026887e-03  3.25209413e-01\n",
      "  -3.89099015e-01  4.77715513e-01 -1.30848563e+00 -2.77347352e-01\n",
      "  -5.82504868e+01  1.67783098e+02  2.57083941e+01 -5.10430410e+01\n",
      "  -8.99915907e+01  2.11749466e+02  1.07683350e+01 -1.10214130e+02\n",
      "  -5.18945158e+01  3.43864336e+01 -1.00776765e+02 -1.05526522e+01\n",
      "  -1.04346079e+02 -8.43798750e+01  1.30968243e+02]]\n"
     ]
    }
   ],
   "source": [
    "# Using Polynomial regression to predict duration of track using algo terms\n",
    "X5 = req_spot_data[['popularity','energy', 'speechiness', 'acousticness', 'instrumentalness','liveness']]\n",
    "Y2 = req_spot_data[['duration_sec']]\n",
    "poly_features5 = poly.fit_transform(X5)\n",
    "X5a_train, X5a_test, Y5a_train, Y5a_test = train_test_split(poly_features5, Y2, test_size=0.3, random_state=42)\n",
    "\n",
    "poly_reg_model5 = LinearRegression()\n",
    "poly_reg_model5.fit(X5a_train, Y5a_train)\n",
    "\n",
    "poly_reg_y_predicted5 = poly_reg_model5.predict(X5a_test)\n",
    "poly_reg_rmse5 = np.sqrt(mean_squared_error(Y5a_test, poly_reg_y_predicted5))\n",
    "poly_reg_rmse5\n",
    "\n",
    "print(poly_reg_model5.score(poly_features5, Y2))\n",
    "print(poly_reg_model5.coef_)"
   ]
  },
  {
   "cell_type": "code",
   "execution_count": 40,
   "id": "895568cd",
   "metadata": {},
   "outputs": [
    {
     "name": "stdout",
     "output_type": "stream",
     "text": [
      "0.01519231602919291\n",
      "[[ 2.76876687e+00  1.15600673e+01 -6.50908934e+00  1.47253162e+00\n",
      "   1.76639775e+01  8.56678270e+00 -1.12681591e-01 -1.16612114e+00\n",
      "  -1.54063239e-02 -2.97203269e-03 -1.29046083e-01  8.39757976e-02\n",
      "   1.15600673e+01  8.34846222e-01 -8.54454971e-02 -1.90852682e+00\n",
      "   6.40396387e+00 -1.38180521e-01  1.90620563e-02 -5.64028696e-02\n",
      "   2.04077034e+00 -5.83707024e-03  9.02104382e-02 -1.82111386e-01\n",
      "  -3.74301897e+00 -2.39217076e+00  8.56678270e+00]]\n"
     ]
    }
   ],
   "source": [
    "# Using Polynomial regression to predict duration of track using traditional terms\n",
    "X6 = req_spot_data[['key','mode', 'loudness', 'tempo', 'time_signature', 'explicit']]\n",
    "Y2 = req_spot_data[['duration_sec']]\n",
    "poly_features6 = poly.fit_transform(X6)\n",
    "X6a_train, X6a_test, Y6a_train, Y6a_test = train_test_split(poly_features6, Y2, test_size=0.3, random_state=42)\n",
    "\n",
    "poly_reg_model6 = LinearRegression()\n",
    "poly_reg_model6.fit(X6a_train, Y6a_train)\n",
    "\n",
    "poly_reg_y_predicted6 = poly_reg_model6.predict(X6a_test)\n",
    "poly_reg_rmse6 = np.sqrt(mean_squared_error(Y6a_test, poly_reg_y_predicted6))\n",
    "poly_reg_rmse6\n",
    "\n",
    "print(poly_reg_model6.score(poly_features6, Y2))\n",
    "print(poly_reg_model6.coef_)"
   ]
  },
  {
   "cell_type": "markdown",
   "id": "5c1cc800",
   "metadata": {},
   "source": [
    "<h3>Using KNN Regression</h3>"
   ]
  },
  {
   "cell_type": "code",
   "execution_count": 41,
   "id": "deacbc8e",
   "metadata": {},
   "outputs": [
    {
     "name": "stdout",
     "output_type": "stream",
     "text": [
      "KNeighborsRegressor()\n",
      "0.4540186064514036\n"
     ]
    }
   ],
   "source": [
    "X7 = req_spot_data[['key','mode', 'loudness', 'tempo', 'time_signature', 'duration_sec', \n",
    "                    'explicit']]\n",
    "Y3 = req_spot_data[['danceability']]\n",
    "\n",
    "from sklearn.neighbors import KNeighborsRegressor\n",
    "\n",
    "X7a_train, X7a_test, Y7a_train, Y7a_test = train_test_split(X4, Y1, test_size=0.25,\n",
    "                                                            random_state=42)\n",
    "knn = KNeighborsRegressor(n_neighbors=5)\n",
    "print(knn)\n",
    "knn.fit(X7a_train,Y7a_train)\n",
    "Y7a_pred_test = knn.predict(X7a_test)\n",
    "print(knn.score(X4, Y1))\n",
    "#print(knn.coef_)"
   ]
  },
  {
   "cell_type": "code",
   "execution_count": 42,
   "id": "efc80976",
   "metadata": {},
   "outputs": [
    {
     "name": "stdout",
     "output_type": "stream",
     "text": [
      "KNeighborsRegressor()\n",
      "0.46628891651249293\n"
     ]
    }
   ],
   "source": [
    "X8 = req_spot_data[['popularity','energy', 'speechiness', 'acousticness', 'instrumentalness','liveness']]\n",
    "Y3 = req_spot_data[['danceability']]\n",
    "\n",
    "X8a_train, X8a_test, Y8a_train, Y8a_test = train_test_split(X8, Y3, test_size=0.25,\n",
    "                                                            random_state=42)\n",
    "knn1 = KNeighborsRegressor(n_neighbors=5)\n",
    "print(knn)\n",
    "knn1.fit(X8a_train,Y8a_train)\n",
    "Y8a_pred_test = knn1.predict(X8a_test)\n",
    "print(knn1.score(X8, Y3))"
   ]
  },
  {
   "cell_type": "markdown",
   "id": "ac93dad2",
   "metadata": {},
   "source": [
    "<p>Let us try using KNN on time duration.</p>"
   ]
  },
  {
   "cell_type": "code",
   "execution_count": 43,
   "id": "ad6a2b29",
   "metadata": {},
   "outputs": [
    {
     "name": "stdout",
     "output_type": "stream",
     "text": [
      "KNeighborsRegressor()\n",
      "0.21870534039041056\n"
     ]
    }
   ],
   "source": [
    "# Using traditional variables\n",
    "X9 = req_spot_data[['key','mode', 'loudness', 'tempo', 'time_signature','explicit']]\n",
    "Y4 = req_spot_data[['duration_sec']]\n",
    "\n",
    "X9a_train, X9a_test, Y9a_train, Y9a_test = train_test_split(X9, Y4, test_size=0.25,\n",
    "                                                            random_state=42)\n",
    "knn2 = KNeighborsRegressor(n_neighbors=5)\n",
    "print(knn2)\n",
    "knn2.fit(X9a_train,Y9a_train)\n",
    "Y9a_pred_test = knn2.predict(X9a_test)\n",
    "print(knn2.score(X9, Y4))"
   ]
  },
  {
   "cell_type": "code",
   "execution_count": 44,
   "id": "d0da4e91",
   "metadata": {},
   "outputs": [
    {
     "name": "stdout",
     "output_type": "stream",
     "text": [
      "KNeighborsRegressor()\n",
      "0.24634896416950136\n"
     ]
    }
   ],
   "source": [
    "X10 = req_spot_data[['popularity','energy', 'speechiness', 'acousticness', 'instrumentalness','liveness']]\n",
    "Y4 = req_spot_data[['duration_sec']]\n",
    "\n",
    "X10a_train, X10a_test, Y10a_train, Y10a_test = train_test_split(X10, Y4, test_size=0.25,\n",
    "                                                            random_state=42)\n",
    "knn3 = KNeighborsRegressor(n_neighbors=5)\n",
    "print(knn3)\n",
    "knn3.fit(X10a_train,Y10a_train)\n",
    "Y10a_pred_test = knn3.predict(X10a_test)\n",
    "print(knn3.score(X10, Y4))"
   ]
  },
  {
   "cell_type": "code",
   "execution_count": 45,
   "id": "7ea1b81b",
   "metadata": {},
   "outputs": [
    {
     "name": "stdout",
     "output_type": "stream",
     "text": [
      "KNeighborsRegressor()\n",
      "0.3658894698755133\n"
     ]
    }
   ],
   "source": [
    "X9 = req_spot_data[['key','mode', 'loudness', 'tempo', 'time_signature', 'duration_sec', \n",
    "                    'explicit']]\n",
    "Y4 = req_spot_data[['popularity']]\n",
    "\n",
    "from sklearn.neighbors import KNeighborsRegressor\n",
    "\n",
    "X9a_train, X9a_test, Y4a_train, Y4a_test = train_test_split(X9, Y4, test_size=0.25,\n",
    "                                                            random_state=42)\n",
    "knn = KNeighborsRegressor(n_neighbors=5)\n",
    "print(knn)\n",
    "knn.fit(X9a_train,Y4a_train)\n",
    "Y4a_pred_test = knn.predict(X9a_test)\n",
    "print(knn.score(X9, Y4))\n",
    "#print(knn.coef_)"
   ]
  },
  {
   "cell_type": "code",
   "execution_count": 46,
   "id": "12423118",
   "metadata": {},
   "outputs": [
    {
     "name": "stdout",
     "output_type": "stream",
     "text": [
      "KNeighborsRegressor()\n",
      "0.3821946228800961\n"
     ]
    }
   ],
   "source": [
    "X10 = req_spot_data[['energy', 'speechiness', 'acousticness', 'instrumentalness','liveness']]\n",
    "Y4 = req_spot_data[['popularity']]\n",
    "\n",
    "X10a_train, X10a_test, Y10a_train, Y10a_test = train_test_split(X10, Y4, test_size=0.25,\n",
    "                                                            random_state=42)\n",
    "knn3 = KNeighborsRegressor(n_neighbors=5)\n",
    "print(knn3)\n",
    "knn3.fit(X10a_train,Y10a_train)\n",
    "Y10a_pred_test = knn3.predict(X10a_test)\n",
    "print(knn3.score(X10, Y4))"
   ]
  },
  {
   "cell_type": "code",
   "execution_count": null,
   "id": "fa8f68d7",
   "metadata": {},
   "outputs": [],
   "source": []
  },
  {
   "cell_type": "code",
   "execution_count": null,
   "id": "a72fbca9",
   "metadata": {},
   "outputs": [],
   "source": []
  }
 ],
 "metadata": {
  "kernelspec": {
   "display_name": "base",
   "language": "python",
   "name": "python3"
  },
  "language_info": {
   "codemirror_mode": {
    "name": "ipython",
    "version": 3
   },
   "file_extension": ".py",
   "mimetype": "text/x-python",
   "name": "python",
   "nbconvert_exporter": "python",
   "pygments_lexer": "ipython3",
   "version": "3.8.8"
  },
  "vscode": {
   "interpreter": {
    "hash": "623420a0ac306b5c9acf98402868eb5ad5340febfd70ef6de8d22f0e3d4444c3"
   }
  }
 },
 "nbformat": 4,
 "nbformat_minor": 5
}
