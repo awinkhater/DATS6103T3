{
 "cells": [
  {
   "cell_type": "code",
   "execution_count": 17,
   "id": "d05251d3",
   "metadata": {},
   "outputs": [],
   "source": [
    "import numpy as np\n",
    "import pandas as pd\n",
    "\n",
    "from sklearn.model_selection import train_test_split\n",
    "from sklearn.linear_model import LinearRegression\n",
    "from sklearn.preprocessing import PolynomialFeatures\n",
    "from sklearn.neighbors import KNeighborsRegressor\n",
    "from sklearn.metrics import mean_absolute_error,mean_squared_error\n",
    "from sklearn.metrics import r2_score"
   ]
  },
  {
   "cell_type": "code",
   "execution_count": 18,
   "id": "99a23a72",
   "metadata": {},
   "outputs": [
    {
     "name": "stdout",
     "output_type": "stream",
     "text": [
      "<class 'pandas.core.frame.DataFrame'>\n",
      "RangeIndex: 114000 entries, 0 to 113999\n",
      "Data columns (total 21 columns):\n",
      " #   Column            Non-Null Count   Dtype  \n",
      "---  ------            --------------   -----  \n",
      " 0   Unnamed: 0        114000 non-null  int64  \n",
      " 1   track_id          114000 non-null  object \n",
      " 2   artists           113999 non-null  object \n",
      " 3   album_name        113999 non-null  object \n",
      " 4   track_name        113999 non-null  object \n",
      " 5   popularity        114000 non-null  int64  \n",
      " 6   duration_ms       114000 non-null  int64  \n",
      " 7   explicit          114000 non-null  bool   \n",
      " 8   danceability      114000 non-null  float64\n",
      " 9   energy            114000 non-null  float64\n",
      " 10  key               114000 non-null  int64  \n",
      " 11  loudness          114000 non-null  float64\n",
      " 12  mode              114000 non-null  int64  \n",
      " 13  speechiness       114000 non-null  float64\n",
      " 14  acousticness      114000 non-null  float64\n",
      " 15  instrumentalness  114000 non-null  float64\n",
      " 16  liveness          114000 non-null  float64\n",
      " 17  valence           114000 non-null  float64\n",
      " 18  tempo             114000 non-null  float64\n",
      " 19  time_signature    114000 non-null  int64  \n",
      " 20  track_genre       114000 non-null  object \n",
      "dtypes: bool(1), float64(9), int64(6), object(5)\n",
      "memory usage: 17.5+ MB\n",
      "None\n"
     ]
    },
    {
     "data": {
      "text/html": [
       "<div>\n",
       "<style scoped>\n",
       "    .dataframe tbody tr th:only-of-type {\n",
       "        vertical-align: middle;\n",
       "    }\n",
       "\n",
       "    .dataframe tbody tr th {\n",
       "        vertical-align: top;\n",
       "    }\n",
       "\n",
       "    .dataframe thead th {\n",
       "        text-align: right;\n",
       "    }\n",
       "</style>\n",
       "<table border=\"1\" class=\"dataframe\">\n",
       "  <thead>\n",
       "    <tr style=\"text-align: right;\">\n",
       "      <th></th>\n",
       "      <th>Unnamed: 0</th>\n",
       "      <th>track_id</th>\n",
       "      <th>artists</th>\n",
       "      <th>album_name</th>\n",
       "      <th>track_name</th>\n",
       "      <th>popularity</th>\n",
       "      <th>duration_ms</th>\n",
       "      <th>explicit</th>\n",
       "      <th>danceability</th>\n",
       "      <th>energy</th>\n",
       "      <th>...</th>\n",
       "      <th>loudness</th>\n",
       "      <th>mode</th>\n",
       "      <th>speechiness</th>\n",
       "      <th>acousticness</th>\n",
       "      <th>instrumentalness</th>\n",
       "      <th>liveness</th>\n",
       "      <th>valence</th>\n",
       "      <th>tempo</th>\n",
       "      <th>time_signature</th>\n",
       "      <th>track_genre</th>\n",
       "    </tr>\n",
       "  </thead>\n",
       "  <tbody>\n",
       "    <tr>\n",
       "      <th>0</th>\n",
       "      <td>0</td>\n",
       "      <td>5SuOikwiRyPMVoIQDJUgSV</td>\n",
       "      <td>Gen Hoshino</td>\n",
       "      <td>Comedy</td>\n",
       "      <td>Comedy</td>\n",
       "      <td>73</td>\n",
       "      <td>230666</td>\n",
       "      <td>False</td>\n",
       "      <td>0.676</td>\n",
       "      <td>0.4610</td>\n",
       "      <td>...</td>\n",
       "      <td>-6.746</td>\n",
       "      <td>0</td>\n",
       "      <td>0.1430</td>\n",
       "      <td>0.0322</td>\n",
       "      <td>0.000001</td>\n",
       "      <td>0.3580</td>\n",
       "      <td>0.715</td>\n",
       "      <td>87.917</td>\n",
       "      <td>4</td>\n",
       "      <td>acoustic</td>\n",
       "    </tr>\n",
       "    <tr>\n",
       "      <th>1</th>\n",
       "      <td>1</td>\n",
       "      <td>4qPNDBW1i3p13qLCt0Ki3A</td>\n",
       "      <td>Ben Woodward</td>\n",
       "      <td>Ghost (Acoustic)</td>\n",
       "      <td>Ghost - Acoustic</td>\n",
       "      <td>55</td>\n",
       "      <td>149610</td>\n",
       "      <td>False</td>\n",
       "      <td>0.420</td>\n",
       "      <td>0.1660</td>\n",
       "      <td>...</td>\n",
       "      <td>-17.235</td>\n",
       "      <td>1</td>\n",
       "      <td>0.0763</td>\n",
       "      <td>0.9240</td>\n",
       "      <td>0.000006</td>\n",
       "      <td>0.1010</td>\n",
       "      <td>0.267</td>\n",
       "      <td>77.489</td>\n",
       "      <td>4</td>\n",
       "      <td>acoustic</td>\n",
       "    </tr>\n",
       "    <tr>\n",
       "      <th>2</th>\n",
       "      <td>2</td>\n",
       "      <td>1iJBSr7s7jYXzM8EGcbK5b</td>\n",
       "      <td>Ingrid Michaelson;ZAYN</td>\n",
       "      <td>To Begin Again</td>\n",
       "      <td>To Begin Again</td>\n",
       "      <td>57</td>\n",
       "      <td>210826</td>\n",
       "      <td>False</td>\n",
       "      <td>0.438</td>\n",
       "      <td>0.3590</td>\n",
       "      <td>...</td>\n",
       "      <td>-9.734</td>\n",
       "      <td>1</td>\n",
       "      <td>0.0557</td>\n",
       "      <td>0.2100</td>\n",
       "      <td>0.000000</td>\n",
       "      <td>0.1170</td>\n",
       "      <td>0.120</td>\n",
       "      <td>76.332</td>\n",
       "      <td>4</td>\n",
       "      <td>acoustic</td>\n",
       "    </tr>\n",
       "    <tr>\n",
       "      <th>3</th>\n",
       "      <td>3</td>\n",
       "      <td>6lfxq3CG4xtTiEg7opyCyx</td>\n",
       "      <td>Kina Grannis</td>\n",
       "      <td>Crazy Rich Asians (Original Motion Picture Sou...</td>\n",
       "      <td>Can't Help Falling In Love</td>\n",
       "      <td>71</td>\n",
       "      <td>201933</td>\n",
       "      <td>False</td>\n",
       "      <td>0.266</td>\n",
       "      <td>0.0596</td>\n",
       "      <td>...</td>\n",
       "      <td>-18.515</td>\n",
       "      <td>1</td>\n",
       "      <td>0.0363</td>\n",
       "      <td>0.9050</td>\n",
       "      <td>0.000071</td>\n",
       "      <td>0.1320</td>\n",
       "      <td>0.143</td>\n",
       "      <td>181.740</td>\n",
       "      <td>3</td>\n",
       "      <td>acoustic</td>\n",
       "    </tr>\n",
       "    <tr>\n",
       "      <th>4</th>\n",
       "      <td>4</td>\n",
       "      <td>5vjLSffimiIP26QG5WcN2K</td>\n",
       "      <td>Chord Overstreet</td>\n",
       "      <td>Hold On</td>\n",
       "      <td>Hold On</td>\n",
       "      <td>82</td>\n",
       "      <td>198853</td>\n",
       "      <td>False</td>\n",
       "      <td>0.618</td>\n",
       "      <td>0.4430</td>\n",
       "      <td>...</td>\n",
       "      <td>-9.681</td>\n",
       "      <td>1</td>\n",
       "      <td>0.0526</td>\n",
       "      <td>0.4690</td>\n",
       "      <td>0.000000</td>\n",
       "      <td>0.0829</td>\n",
       "      <td>0.167</td>\n",
       "      <td>119.949</td>\n",
       "      <td>4</td>\n",
       "      <td>acoustic</td>\n",
       "    </tr>\n",
       "  </tbody>\n",
       "</table>\n",
       "<p>5 rows × 21 columns</p>\n",
       "</div>"
      ],
      "text/plain": [
       "   Unnamed: 0                track_id                 artists  \\\n",
       "0           0  5SuOikwiRyPMVoIQDJUgSV             Gen Hoshino   \n",
       "1           1  4qPNDBW1i3p13qLCt0Ki3A            Ben Woodward   \n",
       "2           2  1iJBSr7s7jYXzM8EGcbK5b  Ingrid Michaelson;ZAYN   \n",
       "3           3  6lfxq3CG4xtTiEg7opyCyx            Kina Grannis   \n",
       "4           4  5vjLSffimiIP26QG5WcN2K        Chord Overstreet   \n",
       "\n",
       "                                          album_name  \\\n",
       "0                                             Comedy   \n",
       "1                                   Ghost (Acoustic)   \n",
       "2                                     To Begin Again   \n",
       "3  Crazy Rich Asians (Original Motion Picture Sou...   \n",
       "4                                            Hold On   \n",
       "\n",
       "                   track_name  popularity  duration_ms  explicit  \\\n",
       "0                      Comedy          73       230666     False   \n",
       "1            Ghost - Acoustic          55       149610     False   \n",
       "2              To Begin Again          57       210826     False   \n",
       "3  Can't Help Falling In Love          71       201933     False   \n",
       "4                     Hold On          82       198853     False   \n",
       "\n",
       "   danceability  energy  ...  loudness  mode  speechiness  acousticness  \\\n",
       "0         0.676  0.4610  ...    -6.746     0       0.1430        0.0322   \n",
       "1         0.420  0.1660  ...   -17.235     1       0.0763        0.9240   \n",
       "2         0.438  0.3590  ...    -9.734     1       0.0557        0.2100   \n",
       "3         0.266  0.0596  ...   -18.515     1       0.0363        0.9050   \n",
       "4         0.618  0.4430  ...    -9.681     1       0.0526        0.4690   \n",
       "\n",
       "   instrumentalness  liveness  valence    tempo  time_signature  track_genre  \n",
       "0          0.000001    0.3580    0.715   87.917               4     acoustic  \n",
       "1          0.000006    0.1010    0.267   77.489               4     acoustic  \n",
       "2          0.000000    0.1170    0.120   76.332               4     acoustic  \n",
       "3          0.000071    0.1320    0.143  181.740               3     acoustic  \n",
       "4          0.000000    0.0829    0.167  119.949               4     acoustic  \n",
       "\n",
       "[5 rows x 21 columns]"
      ]
     },
     "execution_count": 18,
     "metadata": {},
     "output_type": "execute_result"
    }
   ],
   "source": [
    "full_spot_data = pd.read_csv(\"spotify_dataset.csv\")\n",
    "print(full_spot_data.info())\n",
    "full_spot_data.head()"
   ]
  },
  {
   "cell_type": "code",
   "execution_count": 19,
   "id": "154dc3d8",
   "metadata": {},
   "outputs": [
    {
     "name": "stdout",
     "output_type": "stream",
     "text": [
      "<class 'pandas.core.frame.DataFrame'>\n",
      "RangeIndex: 114000 entries, 0 to 113999\n",
      "Data columns (total 16 columns):\n",
      " #   Column            Non-Null Count   Dtype  \n",
      "---  ------            --------------   -----  \n",
      " 0   track_id          114000 non-null  object \n",
      " 1   popularity        114000 non-null  int64  \n",
      " 2   duration_ms       114000 non-null  int64  \n",
      " 3   danceability      114000 non-null  float64\n",
      " 4   explicit          114000 non-null  bool   \n",
      " 5   key               114000 non-null  int64  \n",
      " 6   energy            114000 non-null  float64\n",
      " 7   loudness          114000 non-null  float64\n",
      " 8   mode              114000 non-null  int64  \n",
      " 9   liveness          114000 non-null  float64\n",
      " 10  speechiness       114000 non-null  float64\n",
      " 11  instrumentalness  114000 non-null  float64\n",
      " 12  acousticness      114000 non-null  float64\n",
      " 13  valence           114000 non-null  float64\n",
      " 14  tempo             114000 non-null  float64\n",
      " 15  time_signature    114000 non-null  int64  \n",
      "dtypes: bool(1), float64(9), int64(5), object(1)\n",
      "memory usage: 13.2+ MB\n",
      "None\n"
     ]
    },
    {
     "data": {
      "text/html": [
       "<div>\n",
       "<style scoped>\n",
       "    .dataframe tbody tr th:only-of-type {\n",
       "        vertical-align: middle;\n",
       "    }\n",
       "\n",
       "    .dataframe tbody tr th {\n",
       "        vertical-align: top;\n",
       "    }\n",
       "\n",
       "    .dataframe thead th {\n",
       "        text-align: right;\n",
       "    }\n",
       "</style>\n",
       "<table border=\"1\" class=\"dataframe\">\n",
       "  <thead>\n",
       "    <tr style=\"text-align: right;\">\n",
       "      <th></th>\n",
       "      <th>track_id</th>\n",
       "      <th>popularity</th>\n",
       "      <th>duration_ms</th>\n",
       "      <th>danceability</th>\n",
       "      <th>explicit</th>\n",
       "      <th>key</th>\n",
       "      <th>energy</th>\n",
       "      <th>loudness</th>\n",
       "      <th>mode</th>\n",
       "      <th>liveness</th>\n",
       "      <th>speechiness</th>\n",
       "      <th>instrumentalness</th>\n",
       "      <th>acousticness</th>\n",
       "      <th>valence</th>\n",
       "      <th>tempo</th>\n",
       "      <th>time_signature</th>\n",
       "    </tr>\n",
       "  </thead>\n",
       "  <tbody>\n",
       "    <tr>\n",
       "      <th>0</th>\n",
       "      <td>5SuOikwiRyPMVoIQDJUgSV</td>\n",
       "      <td>73</td>\n",
       "      <td>230666</td>\n",
       "      <td>0.676</td>\n",
       "      <td>False</td>\n",
       "      <td>1</td>\n",
       "      <td>0.4610</td>\n",
       "      <td>-6.746</td>\n",
       "      <td>0</td>\n",
       "      <td>0.3580</td>\n",
       "      <td>0.1430</td>\n",
       "      <td>0.000001</td>\n",
       "      <td>0.0322</td>\n",
       "      <td>0.715</td>\n",
       "      <td>87.917</td>\n",
       "      <td>4</td>\n",
       "    </tr>\n",
       "    <tr>\n",
       "      <th>1</th>\n",
       "      <td>4qPNDBW1i3p13qLCt0Ki3A</td>\n",
       "      <td>55</td>\n",
       "      <td>149610</td>\n",
       "      <td>0.420</td>\n",
       "      <td>False</td>\n",
       "      <td>1</td>\n",
       "      <td>0.1660</td>\n",
       "      <td>-17.235</td>\n",
       "      <td>1</td>\n",
       "      <td>0.1010</td>\n",
       "      <td>0.0763</td>\n",
       "      <td>0.000006</td>\n",
       "      <td>0.9240</td>\n",
       "      <td>0.267</td>\n",
       "      <td>77.489</td>\n",
       "      <td>4</td>\n",
       "    </tr>\n",
       "    <tr>\n",
       "      <th>2</th>\n",
       "      <td>1iJBSr7s7jYXzM8EGcbK5b</td>\n",
       "      <td>57</td>\n",
       "      <td>210826</td>\n",
       "      <td>0.438</td>\n",
       "      <td>False</td>\n",
       "      <td>0</td>\n",
       "      <td>0.3590</td>\n",
       "      <td>-9.734</td>\n",
       "      <td>1</td>\n",
       "      <td>0.1170</td>\n",
       "      <td>0.0557</td>\n",
       "      <td>0.000000</td>\n",
       "      <td>0.2100</td>\n",
       "      <td>0.120</td>\n",
       "      <td>76.332</td>\n",
       "      <td>4</td>\n",
       "    </tr>\n",
       "    <tr>\n",
       "      <th>3</th>\n",
       "      <td>6lfxq3CG4xtTiEg7opyCyx</td>\n",
       "      <td>71</td>\n",
       "      <td>201933</td>\n",
       "      <td>0.266</td>\n",
       "      <td>False</td>\n",
       "      <td>0</td>\n",
       "      <td>0.0596</td>\n",
       "      <td>-18.515</td>\n",
       "      <td>1</td>\n",
       "      <td>0.1320</td>\n",
       "      <td>0.0363</td>\n",
       "      <td>0.000071</td>\n",
       "      <td>0.9050</td>\n",
       "      <td>0.143</td>\n",
       "      <td>181.740</td>\n",
       "      <td>3</td>\n",
       "    </tr>\n",
       "    <tr>\n",
       "      <th>4</th>\n",
       "      <td>5vjLSffimiIP26QG5WcN2K</td>\n",
       "      <td>82</td>\n",
       "      <td>198853</td>\n",
       "      <td>0.618</td>\n",
       "      <td>False</td>\n",
       "      <td>2</td>\n",
       "      <td>0.4430</td>\n",
       "      <td>-9.681</td>\n",
       "      <td>1</td>\n",
       "      <td>0.0829</td>\n",
       "      <td>0.0526</td>\n",
       "      <td>0.000000</td>\n",
       "      <td>0.4690</td>\n",
       "      <td>0.167</td>\n",
       "      <td>119.949</td>\n",
       "      <td>4</td>\n",
       "    </tr>\n",
       "  </tbody>\n",
       "</table>\n",
       "</div>"
      ],
      "text/plain": [
       "                 track_id  popularity  duration_ms  danceability  explicit  \\\n",
       "0  5SuOikwiRyPMVoIQDJUgSV          73       230666         0.676     False   \n",
       "1  4qPNDBW1i3p13qLCt0Ki3A          55       149610         0.420     False   \n",
       "2  1iJBSr7s7jYXzM8EGcbK5b          57       210826         0.438     False   \n",
       "3  6lfxq3CG4xtTiEg7opyCyx          71       201933         0.266     False   \n",
       "4  5vjLSffimiIP26QG5WcN2K          82       198853         0.618     False   \n",
       "\n",
       "   key  energy  loudness  mode  liveness  speechiness  instrumentalness  \\\n",
       "0    1  0.4610    -6.746     0    0.3580       0.1430          0.000001   \n",
       "1    1  0.1660   -17.235     1    0.1010       0.0763          0.000006   \n",
       "2    0  0.3590    -9.734     1    0.1170       0.0557          0.000000   \n",
       "3    0  0.0596   -18.515     1    0.1320       0.0363          0.000071   \n",
       "4    2  0.4430    -9.681     1    0.0829       0.0526          0.000000   \n",
       "\n",
       "   acousticness  valence    tempo  time_signature  \n",
       "0        0.0322    0.715   87.917               4  \n",
       "1        0.9240    0.267   77.489               4  \n",
       "2        0.2100    0.120   76.332               4  \n",
       "3        0.9050    0.143  181.740               3  \n",
       "4        0.4690    0.167  119.949               4  "
      ]
     },
     "execution_count": 19,
     "metadata": {},
     "output_type": "execute_result"
    }
   ],
   "source": [
    "req_spot_data = full_spot_data[[\"track_id\",\"popularity\",\"duration_ms\",\"danceability\",\"explicit\",\n",
    "                                \"key\",\"energy\",\"loudness\",\"mode\",\"liveness\",\"speechiness\",\n",
    "                                \"instrumentalness\",\"acousticness\",\"valence\",\"tempo\",\n",
    "                                \"time_signature\"]]\n",
    "print(req_spot_data.info())\n",
    "req_spot_data.head()"
   ]
  },
  {
   "cell_type": "code",
   "execution_count": 20,
   "id": "f785ce6a",
   "metadata": {},
   "outputs": [
    {
     "name": "stderr",
     "output_type": "stream",
     "text": [
      "<ipython-input-20-9655b7613128>:5: SettingWithCopyWarning: \n",
      "A value is trying to be set on a copy of a slice from a DataFrame.\n",
      "Try using .loc[row_indexer,col_indexer] = value instead\n",
      "\n",
      "See the caveats in the documentation: https://pandas.pydata.org/pandas-docs/stable/user_guide/indexing.html#returning-a-view-versus-a-copy\n",
      "  req_spot_data['duration_ms'] = req_spot_data['duration_ms'].apply(mil_to_sec)\n",
      "c:\\Users\\alexw\\anaconda3\\lib\\site-packages\\pandas\\core\\frame.py:4441: SettingWithCopyWarning: \n",
      "A value is trying to be set on a copy of a slice from a DataFrame\n",
      "\n",
      "See the caveats in the documentation: https://pandas.pydata.org/pandas-docs/stable/user_guide/indexing.html#returning-a-view-versus-a-copy\n",
      "  return super().rename(\n"
     ]
    },
    {
     "data": {
      "text/html": [
       "<div>\n",
       "<style scoped>\n",
       "    .dataframe tbody tr th:only-of-type {\n",
       "        vertical-align: middle;\n",
       "    }\n",
       "\n",
       "    .dataframe tbody tr th {\n",
       "        vertical-align: top;\n",
       "    }\n",
       "\n",
       "    .dataframe thead th {\n",
       "        text-align: right;\n",
       "    }\n",
       "</style>\n",
       "<table border=\"1\" class=\"dataframe\">\n",
       "  <thead>\n",
       "    <tr style=\"text-align: right;\">\n",
       "      <th></th>\n",
       "      <th>track_id</th>\n",
       "      <th>popularity</th>\n",
       "      <th>duration_sec</th>\n",
       "      <th>danceability</th>\n",
       "      <th>explicit</th>\n",
       "      <th>key</th>\n",
       "      <th>energy</th>\n",
       "      <th>loudness</th>\n",
       "      <th>mode</th>\n",
       "      <th>liveness</th>\n",
       "      <th>speechiness</th>\n",
       "      <th>instrumentalness</th>\n",
       "      <th>acousticness</th>\n",
       "      <th>valence</th>\n",
       "      <th>tempo</th>\n",
       "      <th>time_signature</th>\n",
       "    </tr>\n",
       "  </thead>\n",
       "  <tbody>\n",
       "    <tr>\n",
       "      <th>0</th>\n",
       "      <td>5SuOikwiRyPMVoIQDJUgSV</td>\n",
       "      <td>73</td>\n",
       "      <td>230.666</td>\n",
       "      <td>0.676</td>\n",
       "      <td>False</td>\n",
       "      <td>1</td>\n",
       "      <td>0.4610</td>\n",
       "      <td>-6.746</td>\n",
       "      <td>0</td>\n",
       "      <td>0.3580</td>\n",
       "      <td>0.1430</td>\n",
       "      <td>0.000001</td>\n",
       "      <td>0.0322</td>\n",
       "      <td>0.715</td>\n",
       "      <td>87.917</td>\n",
       "      <td>4</td>\n",
       "    </tr>\n",
       "    <tr>\n",
       "      <th>1</th>\n",
       "      <td>4qPNDBW1i3p13qLCt0Ki3A</td>\n",
       "      <td>55</td>\n",
       "      <td>149.610</td>\n",
       "      <td>0.420</td>\n",
       "      <td>False</td>\n",
       "      <td>1</td>\n",
       "      <td>0.1660</td>\n",
       "      <td>-17.235</td>\n",
       "      <td>1</td>\n",
       "      <td>0.1010</td>\n",
       "      <td>0.0763</td>\n",
       "      <td>0.000006</td>\n",
       "      <td>0.9240</td>\n",
       "      <td>0.267</td>\n",
       "      <td>77.489</td>\n",
       "      <td>4</td>\n",
       "    </tr>\n",
       "    <tr>\n",
       "      <th>2</th>\n",
       "      <td>1iJBSr7s7jYXzM8EGcbK5b</td>\n",
       "      <td>57</td>\n",
       "      <td>210.826</td>\n",
       "      <td>0.438</td>\n",
       "      <td>False</td>\n",
       "      <td>0</td>\n",
       "      <td>0.3590</td>\n",
       "      <td>-9.734</td>\n",
       "      <td>1</td>\n",
       "      <td>0.1170</td>\n",
       "      <td>0.0557</td>\n",
       "      <td>0.000000</td>\n",
       "      <td>0.2100</td>\n",
       "      <td>0.120</td>\n",
       "      <td>76.332</td>\n",
       "      <td>4</td>\n",
       "    </tr>\n",
       "    <tr>\n",
       "      <th>3</th>\n",
       "      <td>6lfxq3CG4xtTiEg7opyCyx</td>\n",
       "      <td>71</td>\n",
       "      <td>201.933</td>\n",
       "      <td>0.266</td>\n",
       "      <td>False</td>\n",
       "      <td>0</td>\n",
       "      <td>0.0596</td>\n",
       "      <td>-18.515</td>\n",
       "      <td>1</td>\n",
       "      <td>0.1320</td>\n",
       "      <td>0.0363</td>\n",
       "      <td>0.000071</td>\n",
       "      <td>0.9050</td>\n",
       "      <td>0.143</td>\n",
       "      <td>181.740</td>\n",
       "      <td>3</td>\n",
       "    </tr>\n",
       "    <tr>\n",
       "      <th>4</th>\n",
       "      <td>5vjLSffimiIP26QG5WcN2K</td>\n",
       "      <td>82</td>\n",
       "      <td>198.853</td>\n",
       "      <td>0.618</td>\n",
       "      <td>False</td>\n",
       "      <td>2</td>\n",
       "      <td>0.4430</td>\n",
       "      <td>-9.681</td>\n",
       "      <td>1</td>\n",
       "      <td>0.0829</td>\n",
       "      <td>0.0526</td>\n",
       "      <td>0.000000</td>\n",
       "      <td>0.4690</td>\n",
       "      <td>0.167</td>\n",
       "      <td>119.949</td>\n",
       "      <td>4</td>\n",
       "    </tr>\n",
       "  </tbody>\n",
       "</table>\n",
       "</div>"
      ],
      "text/plain": [
       "                 track_id  popularity  duration_sec  danceability  explicit  \\\n",
       "0  5SuOikwiRyPMVoIQDJUgSV          73       230.666         0.676     False   \n",
       "1  4qPNDBW1i3p13qLCt0Ki3A          55       149.610         0.420     False   \n",
       "2  1iJBSr7s7jYXzM8EGcbK5b          57       210.826         0.438     False   \n",
       "3  6lfxq3CG4xtTiEg7opyCyx          71       201.933         0.266     False   \n",
       "4  5vjLSffimiIP26QG5WcN2K          82       198.853         0.618     False   \n",
       "\n",
       "   key  energy  loudness  mode  liveness  speechiness  instrumentalness  \\\n",
       "0    1  0.4610    -6.746     0    0.3580       0.1430          0.000001   \n",
       "1    1  0.1660   -17.235     1    0.1010       0.0763          0.000006   \n",
       "2    0  0.3590    -9.734     1    0.1170       0.0557          0.000000   \n",
       "3    0  0.0596   -18.515     1    0.1320       0.0363          0.000071   \n",
       "4    2  0.4430    -9.681     1    0.0829       0.0526          0.000000   \n",
       "\n",
       "   acousticness  valence    tempo  time_signature  \n",
       "0        0.0322    0.715   87.917               4  \n",
       "1        0.9240    0.267   77.489               4  \n",
       "2        0.2100    0.120   76.332               4  \n",
       "3        0.9050    0.143  181.740               3  \n",
       "4        0.4690    0.167  119.949               4  "
      ]
     },
     "execution_count": 20,
     "metadata": {},
     "output_type": "execute_result"
    }
   ],
   "source": [
    "# Converting milliseconds to seconds\n",
    "def mil_to_sec(time):\n",
    "    return time/1000\n",
    "\n",
    "req_spot_data['duration_ms'] = req_spot_data['duration_ms'].apply(mil_to_sec)\n",
    "req_spot_data.rename(columns = {'duration_ms':'duration_sec'}, inplace = True)\n",
    "#req_spot_data.rename(columns = {'mode':'audio_type'}, inplace = True)\n",
    "req_spot_data.head()"
   ]
  },
  {
   "cell_type": "markdown",
   "id": "e034afa7",
   "metadata": {},
   "source": [
    "<h3>Model Building</h3>"
   ]
  },
  {
   "cell_type": "code",
   "execution_count": 21,
   "id": "3866deff",
   "metadata": {},
   "outputs": [
    {
     "name": "stdout",
     "output_type": "stream",
     "text": [
      "[False, True]\n",
      "   popularity  duration_sec  danceability  explicit  key  energy  loudness  \\\n",
      "0          73       230.666         0.676         0    1  0.4610    -6.746   \n",
      "1          55       149.610         0.420         0    1  0.1660   -17.235   \n",
      "2          57       210.826         0.438         0    0  0.3590    -9.734   \n",
      "3          71       201.933         0.266         0    0  0.0596   -18.515   \n",
      "4          82       198.853         0.618         0    2  0.4430    -9.681   \n",
      "\n",
      "   mode  liveness  speechiness  instrumentalness  acousticness  valence  \\\n",
      "0     0    0.3580       0.1430          0.000001        0.0322    0.715   \n",
      "1     1    0.1010       0.0763          0.000006        0.9240    0.267   \n",
      "2     1    0.1170       0.0557          0.000000        0.2100    0.120   \n",
      "3     1    0.1320       0.0363          0.000071        0.9050    0.143   \n",
      "4     1    0.0829       0.0526          0.000000        0.4690    0.167   \n",
      "\n",
      "     tempo  time_signature  \n",
      "0   87.917               4  \n",
      "1   77.489               4  \n",
      "2   76.332               4  \n",
      "3  181.740               3  \n",
      "4  119.949               4  \n"
     ]
    }
   ],
   "source": [
    "#A cautionary check for multicolinearity, something we suspect will be high because of the high variable correlations\n",
    "from statsmodels.stats.outliers_influence import variance_inflation_factor\n",
    "rsd= req_spot_data.copy(deep=True)\n",
    "rsd.drop(['track_id'], axis =1, inplace=True)\n",
    "def encode(x):\n",
    "    if x =='True': return(np.int(1))\n",
    "    else: return(np.int(0))\n",
    "print(rsd.explicit.unique().tolist())\n",
    "rsd['explicit']=rsd['explicit'].apply(lambda x: encode(x))\n",
    "print(rsd.head())                      "
   ]
  },
  {
   "cell_type": "code",
   "execution_count": 22,
   "id": "29e626f2",
   "metadata": {},
   "outputs": [
    {
     "name": "stderr",
     "output_type": "stream",
     "text": [
      "c:\\Users\\alexw\\anaconda3\\lib\\site-packages\\statsmodels\\regression\\linear_model.py:1717: RuntimeWarning: invalid value encountered in double_scalars\n",
      "  return 1 - self.ssr/self.uncentered_tss\n"
     ]
    },
    {
     "name": "stdout",
     "output_type": "stream",
     "text": [
      "             feature        VIF\n",
      "0         popularity   3.256206\n",
      "1       duration_sec   5.689349\n",
      "2       danceability  16.326415\n",
      "3           explicit        NaN\n",
      "4                key   3.251025\n",
      "5             energy  23.960023\n",
      "6           loudness   9.224829\n",
      "7               mode   2.816211\n",
      "8           liveness   2.576724\n",
      "9        speechiness   1.849534\n",
      "10  instrumentalness   1.831285\n",
      "11      acousticness   3.987242\n",
      "12           valence   6.812459\n",
      "13             tempo  17.373970\n",
      "14    time_signature  54.990126\n"
     ]
    }
   ],
   "source": [
    "# VIF dataframe\n",
    "vif_data = pd.DataFrame()\n",
    "vif_data[\"feature\"] = rsd.columns\n",
    "  \n",
    "# calculating VIF for each feature\n",
    "vif_data[\"VIF\"] = [variance_inflation_factor(rsd.values, i)\n",
    "                          for i in range(len(rsd.columns))]\n",
    "  \n",
    "print(vif_data)"
   ]
  },
  {
   "attachments": {},
   "cell_type": "markdown",
   "id": "067de227",
   "metadata": {},
   "source": [
    "These VIF values are very bad and will definetly hinder our regression attempts. We will implement some data processing to bypass much of this multicolinearity issue and use it as an conclusion to each of our modeling steps. The We will keep the other models in place to preserve the model comparison in the presentation.\n",
    "\n",
    "\n"
   ]
  },
  {
   "cell_type": "code",
   "execution_count": 23,
   "id": "57bc4a32",
   "metadata": {},
   "outputs": [
    {
     "name": "stderr",
     "output_type": "stream",
     "text": [
      "c:\\Users\\alexw\\anaconda3\\lib\\site-packages\\statsmodels\\regression\\linear_model.py:1717: RuntimeWarning: invalid value encountered in double_scalars\n",
      "  return 1 - self.ssr/self.uncentered_tss\n"
     ]
    },
    {
     "name": "stdout",
     "output_type": "stream",
     "text": [
      "                 feature       VIF\n",
      "0             popularity  1.014800\n",
      "1           duration_sec  1.049896\n",
      "2               explicit       NaN\n",
      "3                    key  1.021110\n",
      "4                   mode  1.035870\n",
      "5               liveness  1.058165\n",
      "6            speechiness  1.063998\n",
      "7       instrumentalness  1.152690\n",
      "8           acousticness  1.103923\n",
      "9   valence+danceability  1.158642\n",
      "10  time_signature+tempo  1.048322\n"
     ]
    }
   ],
   "source": [
    "#Creating a multicolinearity resilient dataset using correlation values from our EDA\n",
    "mcdf= rsd.copy(deep=True)\n",
    "mcdf['valence+danceability']=mcdf['valence'] + mcdf['danceability']\n",
    "mcdf['time_signature+tempo']=mcdf['time_signature']+ mcdf['tempo']\n",
    "mcdf.drop(['time_signature','tempo', 'energy', 'loudness', 'valence', 'danceability'], axis=1,inplace=True)\n",
    "mcdf= mcdf.apply(lambda x: x-x.mean())\n",
    "#After repeated testing we found that energy and loudness more often, hurt our models than helped them (Two highest VIF scores)\n",
    "#We removed them\n",
    "# VIF dataframe\n",
    "vif_data = pd.DataFrame()\n",
    "vif_data[\"feature\"] = mcdf.columns\n",
    "  \n",
    "# calculating VIF for each feature\n",
    "vif_data[\"VIF\"] = [variance_inflation_factor(mcdf.values, i)\n",
    "                          for i in range(len(mcdf.columns))]\n",
    "  \n",
    "print(vif_data)\n",
    "req_spot_data= mcdf\n",
    "\n",
    "#This is great because our only variables that have multicolinearity issues\n",
    "# With the rest of our variables passing the under 5 threshhold, We shall move on with our analysis"
   ]
  },
  {
   "cell_type": "code",
   "execution_count": 24,
   "id": "1e006b61",
   "metadata": {},
   "outputs": [
    {
     "name": "stdout",
     "output_type": "stream",
     "text": [
      "Mean of Residuals popularity   -0.037718\n",
      "dtype: float64\n",
      "0.00047836117891653096\n",
      "[[-0.03750638 -0.69736694  0.01033366 -0.00164824  0.        ]]\n"
     ]
    }
   ],
   "source": [
    "# Linear regression to predict popularity using only traditional terms.\n",
    "#We can leave \n",
    "x1 = req_spot_data[['key','mode', 'time_signature+tempo', 'duration_sec', 'explicit']]\n",
    "Y = req_spot_data[['popularity']]\n",
    "LR1 = LinearRegression()\n",
    "LR1.fit(x1, Y)\n",
    "x1_train, x1_test, Y1_train, Y1_test = train_test_split(x1, Y,random_state = 0,test_size=0.25)\n",
    "Y1_pred = LR1.predict(x1_train)\n",
    "residuals1 = Y1_train-Y1_pred\n",
    "mean_residuals1 = np.mean(residuals1)\n",
    "print(\"Mean of Residuals {}\".format(mean_residuals1))\n",
    "#Close enough to 0 for our purposes\n",
    "print(LR1.score(x1, Y))\n",
    "print(LR1.coef_)"
   ]
  },
  {
   "cell_type": "code",
   "execution_count": 25,
   "id": "9536e290",
   "metadata": {},
   "outputs": [
    {
     "name": "stdout",
     "output_type": "stream",
     "text": [
      "0.014054847539964999\n",
      "[[ -2.75641154 -10.5813294   -1.4182765   -8.09487709  -0.78707668]]\n"
     ]
    }
   ],
   "source": [
    "# Linear regression to predict popularity using algo terms.\n",
    "x2 = req_spot_data[['valence+danceability', 'speechiness', 'acousticness', 'instrumentalness','liveness']]\n",
    "Y = req_spot_data[['popularity']]\n",
    "LR2 = LinearRegression()\n",
    "LR2.fit(x2, Y)\n",
    "x2_train, x2_test, Y2_train, Y2_test = train_test_split(x2, Y,random_state = 0,test_size=0.25)\n",
    "Y2_pred = LR2.predict(x2_train)\n",
    "residuals2 = Y2_train-Y2_pred\n",
    "mean_residuals2 = np.mean(residuals2)\n",
    "#print(\"Mean of Residuals {}\".format(mean_residuals2))\n",
    "#Close enough to 0 for our purposes\n",
    "print(LR2.score(x2, Y))\n",
    "print(LR2.coef_)"
   ]
  },
  {
   "cell_type": "code",
   "execution_count": 26,
   "id": "8c43609e",
   "metadata": {},
   "outputs": [
    {
     "name": "stdout",
     "output_type": "stream",
     "text": [
      "0.0019047772385080153\n",
      "[[-2.84192768e-02 -7.26147003e-01  1.33473515e-02 -1.15822724e-03\n",
      "   7.94503352e-15 -3.74077439e-03  1.61671286e-01 -2.48970345e-03\n",
      "   4.18594857e-04 -3.33066907e-16  1.99766862e-01 -9.19658561e-03\n",
      "   1.21862383e-02  0.00000000e+00 -4.19502565e-04 -3.82613587e-05\n",
      "   0.00000000e+00 -1.08393778e-06  0.00000000e+00  0.00000000e+00]]\n"
     ]
    }
   ],
   "source": [
    "# Using Polynomial Regression to predict popularity using traditional terms\n",
    "x1 = req_spot_data[['key','mode', 'time_signature+tempo', 'duration_sec', 'explicit']]\n",
    "Y = req_spot_data[['popularity']]\n",
    "\n",
    "from sklearn.preprocessing import PolynomialFeatures\n",
    "poly = PolynomialFeatures(degree=2, include_bias=False)\n",
    "poly_features = poly.fit_transform(x1)\n",
    "X_train, X_test, y_train, y_test = train_test_split(poly_features, Y, test_size=0.3, random_state=42)\n",
    "\n",
    "poly_reg_model = LinearRegression()\n",
    "poly_reg_model.fit(X_train, y_train)\n",
    "\n",
    "poly_reg_y_predicted = poly_reg_model.predict(X_test)\n",
    "from sklearn.metrics import mean_squared_error\n",
    "poly_reg_rmse = np.sqrt(mean_squared_error(y_test, poly_reg_y_predicted))\n",
    "poly_reg_rmse\n",
    "\n",
    "print(poly_reg_model.score(poly_features, Y))\n",
    "print(poly_reg_model.coef_)"
   ]
  },
  {
   "cell_type": "code",
   "execution_count": 27,
   "id": "9c4119cf",
   "metadata": {},
   "outputs": [
    {
     "name": "stdout",
     "output_type": "stream",
     "text": [
      "0.03703661116857415\n",
      "[[ -4.37995822 -18.31252233   4.47681373  -5.71551169  -5.79299233\n",
      "  -12.16059512  14.2051462    6.49986279  -3.54020738   7.03440814\n",
      "   21.96043569   1.08706594 -19.85458732 -22.39580774 -30.00375598\n",
      "   14.04364058  -0.70199315  -1.991623    -1.41181929  12.2286829 ]]\n"
     ]
    }
   ],
   "source": [
    "# Polynomial regression to predict popularity using algo terms.\n",
    "x2 = req_spot_data[['valence+danceability', 'speechiness', 'acousticness', 'instrumentalness','liveness']]\n",
    "Y = req_spot_data[['popularity']]\n",
    "poly_features2 = poly.fit_transform(x2)\n",
    "X_train, X_test, y_train, y_test = train_test_split(poly_features2, Y, test_size=0.3, random_state=42)\n",
    "\n",
    "poly_reg_model2 = LinearRegression()\n",
    "poly_reg_model2.fit(X_train, y_train)\n",
    "\n",
    "poly_reg_y_predicted2 = poly_reg_model2.predict(X_test)\n",
    "from sklearn.metrics import mean_squared_error\n",
    "poly_reg_rmse2 = np.sqrt(mean_squared_error(y_test, poly_reg_y_predicted))\n",
    "poly_reg_rmse2\n",
    "\n",
    "print(poly_reg_model2.score(poly_features2, Y))\n",
    "print(poly_reg_model2.coef_)"
   ]
  },
  {
   "cell_type": "code",
   "execution_count": 28,
   "id": "116ba79d",
   "metadata": {},
   "outputs": [
    {
     "name": "stdout",
     "output_type": "stream",
     "text": [
      "0.12271216588799305\n",
      "[[-0.00069158  0.22848619 -0.14061249 -0.36621571 -0.17312127]]\n"
     ]
    }
   ],
   "source": [
    "# Predictiog dancability by using only algo terms using linear regression\n",
    "X3 = req_spot_data[['popularity', 'speechiness', 'acousticness', 'instrumentalness','liveness']]\n",
    "Y1 = req_spot_data[['valence+danceability']]\n",
    "LR3 = LinearRegression()\n",
    "LR3.fit(X3,Y1)\n",
    "X3_train, X3_test, Y3_train, Y3_test = train_test_split(X3,Y1,random_state = 0,test_size = 0.25)\n",
    "Y3_pred = LR3.predict(X3_train)\n",
    "residuals3 = Y3_train-Y3_pred\n",
    "mean_residuals3 = np.mean(residuals3)\n",
    "print(LR3.score(X3, Y1))\n",
    "print(LR3.coef_)"
   ]
  },
  {
   "cell_type": "code",
   "execution_count": 29,
   "id": "284ec1c3",
   "metadata": {},
   "outputs": [
    {
     "name": "stdout",
     "output_type": "stream",
     "text": [
      "0.02320696680656764\n",
      "[[ 0.00410222 -0.01298139  0.00045642 -0.00049833  0.        ]]\n"
     ]
    }
   ],
   "source": [
    "# Linear regression by using traditional terms for predicting dancability\n",
    "X4 = req_spot_data[['key','mode','time_signature+tempo', 'duration_sec', 'explicit']]\n",
    "Y1 = req_spot_data[['valence+danceability']]\n",
    "LR4 = LinearRegression()\n",
    "LR4.fit(X4,Y1)\n",
    "X4_train, X4_test, Y4_train, Y4_test = train_test_split(X4,Y1,random_state = 0,test_size = 0.25)\n",
    "Y4_pred = LR4.predict(X4_train)\n",
    "residuals4 = Y4_train-Y4_pred\n",
    "mean_residuals4 = np.mean(residuals4)\n",
    "print(LR4.score(X4, Y1))\n",
    "print(LR4.coef_)"
   ]
  },
  {
   "cell_type": "code",
   "execution_count": 31,
   "id": "92f5ed39",
   "metadata": {},
   "outputs": [
    {
     "name": "stdout",
     "output_type": "stream",
     "text": [
      "0.19977502054809104\n",
      "[[-9.10828809e-04  7.23760888e-01  1.44802702e-01 -3.94583722e-01\n",
      "  -1.65294570e-01  3.05173772e-05  3.49067358e-03  1.80915194e-03\n",
      "   1.63115398e-04  2.33833014e-03 -1.65660371e+00  1.57519411e+00\n",
      "  -4.93874393e-01 -4.96372376e-01 -1.02292153e+00 -5.14544423e-02\n",
      "   3.55998492e-01  2.03443153e-01 -4.15102897e-01 -6.64027532e-03]]\n"
     ]
    }
   ],
   "source": [
    "# Polynomial regression by using algo terms for dancability\n",
    "X3 = req_spot_data[['popularity', 'speechiness', 'acousticness', 'instrumentalness','liveness']]\n",
    "Y1 = req_spot_data[['valence+danceability']]\n",
    "poly_features3 = poly.fit_transform(X3)\n",
    "X3a_train, X3a_test, Y3a_train, Y3a_test = train_test_split(poly_features3, Y1, test_size=0.3, \n",
    "                                                            random_state=42)\n",
    "\n",
    "poly_reg_model3 = LinearRegression()\n",
    "poly_reg_model3.fit(X3a_train, Y3a_train)\n",
    "\n",
    "poly_reg_y_predicted3 = poly_reg_model3.predict(X3a_test)\n",
    "from sklearn.metrics import mean_squared_error\n",
    "poly_reg_rmse3 = np.sqrt(mean_squared_error(Y3a_test, poly_reg_y_predicted3))\n",
    "poly_reg_rmse3\n",
    "\n",
    "print(poly_reg_model3.score(poly_features3, Y1))\n",
    "print(poly_reg_model3.coef_)"
   ]
  },
  {
   "cell_type": "code",
   "execution_count": 32,
   "id": "5a949ebc",
   "metadata": {},
   "outputs": [
    {
     "name": "stdout",
     "output_type": "stream",
     "text": [
      "0.08226066614869998\n",
      "[[ 4.24567652e-03 -7.71320000e-03  8.85873078e-04 -8.03459230e-04\n",
      "   7.51894207e-17  5.41526584e-04 -2.82759374e-03 -2.93238083e-05\n",
      "  -8.15390180e-06 -3.46944695e-18  2.12194191e-03  5.28144335e-04\n",
      "  -1.69799033e-04  0.00000000e+00 -6.74157994e-05 -3.04187047e-06\n",
      "   0.00000000e+00  1.95949604e-07  0.00000000e+00  0.00000000e+00]]\n"
     ]
    }
   ],
   "source": [
    "# Polynomial regression by using traditional terms for predicting dancability.\n",
    "X4 = req_spot_data[['key','mode', 'time_signature+tempo', 'duration_sec', 'explicit']]\n",
    "Y1 = req_spot_data[['valence+danceability']]\n",
    "poly_features4 = poly.fit_transform(X4)\n",
    "X4a_train, X4a_test, Y4a_train, Y4a_test = train_test_split(poly_features4, Y1, test_size=0.3, random_state=42)\n",
    "\n",
    "poly_reg_model4 = LinearRegression()\n",
    "poly_reg_model4.fit(X4a_train, Y4a_train)\n",
    "\n",
    "poly_reg_y_predicted4 = poly_reg_model4.predict(X4a_test)\n",
    "poly_reg_rmse4 = np.sqrt(mean_squared_error(Y4a_test, poly_reg_y_predicted4))\n",
    "poly_reg_rmse4\n",
    "\n",
    "print(poly_reg_model4.score(poly_features4, Y1))\n",
    "print(poly_reg_model4.coef_)"
   ]
  },
  {
   "cell_type": "code",
   "execution_count": 33,
   "id": "dd5925cb",
   "metadata": {},
   "outputs": [
    {
     "name": "stdout",
     "output_type": "stream",
     "text": [
      "0.03270053751463631\n",
      "[[ 1.20916892e-03 -5.79096191e+01 -3.78203702e+01  4.64103953e+01\n",
      "   1.70796878e+01]]\n"
     ]
    }
   ],
   "source": [
    "# Linear regression using algo terms for determining duration of track.\n",
    "X5 = req_spot_data[['popularity', 'speechiness', 'acousticness', 'instrumentalness','liveness']]\n",
    "Y2 = req_spot_data[['duration_sec']]\n",
    "LR5 = LinearRegression()\n",
    "LR5.fit(X5,Y2)\n",
    "X5_train, X5_test, Y5_train, Y5_test = train_test_split(X5,Y2,random_state = 0,test_size = 0.25)\n",
    "Y5_pred = LR5.predict(X5_train)\n",
    "residuals5 = Y5_train-Y5_pred\n",
    "mean_residuals5 = np.mean(residuals5)\n",
    "print(LR5.score(X5, Y2))\n",
    "print(LR5.coef_)"
   ]
  },
  {
   "cell_type": "code",
   "execution_count": 34,
   "id": "e3354ec2",
   "metadata": {},
   "outputs": [
    {
     "name": "stdout",
     "output_type": "stream",
     "text": [
      "0.001878099352559115\n",
      "[[ 0.09235827 -7.84451572  0.08779706  0.        ]]\n"
     ]
    }
   ],
   "source": [
    "# Linear regression by using traditional terms for predicting duration of track.\n",
    "X6 = req_spot_data[['key','mode', 'time_signature+tempo', 'explicit']]\n",
    "Y2 = req_spot_data[['duration_sec']]\n",
    "LR6 = LinearRegression()\n",
    "LR6.fit(X6,Y2)\n",
    "X6_train, X6_test, Y6_train, Y6_test = train_test_split(X6,Y2,random_state = 0,test_size = 0.25)\n",
    "Y6_pred = LR6.predict(X6_train)\n",
    "residuals6 = Y6_train-Y6_pred\n",
    "mean_residuals6 = np.mean(residuals6)\n",
    "print(LR6.score(X6, Y2))\n",
    "print(LR6.coef_)"
   ]
  },
  {
   "cell_type": "code",
   "execution_count": 35,
   "id": "82c36c31",
   "metadata": {},
   "outputs": [
    {
     "name": "stdout",
     "output_type": "stream",
     "text": [
      "0.06467663947059354\n",
      "[[-4.40729952e-02 -1.89878969e+02 -3.41838868e+01  9.32950727e+01\n",
      "  -4.21890849e+01 -8.71128161e-03 -4.56754682e-01  2.81950852e-01\n",
      "  -1.32306247e+00 -2.15935197e-01  2.31877359e+02 -2.58906989e+01\n",
      "  -1.47185195e+02 -4.36138341e+01 -2.29253212e+00 -7.66068154e+01\n",
      "   4.21858746e+01 -1.00994298e+02 -9.39967151e+01  1.18055375e+02]]\n"
     ]
    }
   ],
   "source": [
    "# Using Polynomial regression to predict duration of track using algo terms\n",
    "X5 = req_spot_data[['popularity', 'speechiness', 'acousticness', 'instrumentalness','liveness']]\n",
    "Y2 = req_spot_data[['duration_sec']]\n",
    "poly_features5 = poly.fit_transform(X5)\n",
    "X5a_train, X5a_test, Y5a_train, Y5a_test = train_test_split(poly_features5, Y2, test_size=0.3, random_state=42)\n",
    "\n",
    "poly_reg_model5 = LinearRegression()\n",
    "poly_reg_model5.fit(X5a_train, Y5a_train)\n",
    "\n",
    "poly_reg_y_predicted5 = poly_reg_model5.predict(X5a_test)\n",
    "poly_reg_rmse5 = np.sqrt(mean_squared_error(Y5a_test, poly_reg_y_predicted5))\n",
    "poly_reg_rmse5\n",
    "\n",
    "print(poly_reg_model5.score(poly_features5, Y2))\n",
    "print(poly_reg_model5.coef_)"
   ]
  },
  {
   "cell_type": "code",
   "execution_count": 36,
   "id": "895568cd",
   "metadata": {},
   "outputs": [
    {
     "name": "stdout",
     "output_type": "stream",
     "text": [
      "0.005497221226750448\n",
      "[[ 1.04109306e-01 -5.75680920e+00  1.30421523e-01  6.66133815e-16\n",
      "  -1.15895909e-01 -1.11965255e+00 -2.54199579e-03 -8.32667268e-16\n",
      "   1.58372851e+00 -6.88275528e-02  0.00000000e+00 -5.45882623e-03\n",
      "   0.00000000e+00  0.00000000e+00]]\n"
     ]
    }
   ],
   "source": [
    "# Using Polynomial regression to predict duration of track using traditional terms\n",
    "X6 = req_spot_data[['key','mode',  'time_signature+tempo', 'explicit']]\n",
    "Y2 = req_spot_data[['duration_sec']]\n",
    "poly_features6 = poly.fit_transform(X6)\n",
    "X6a_train, X6a_test, Y6a_train, Y6a_test = train_test_split(poly_features6, Y2, test_size=0.3, random_state=42)\n",
    "\n",
    "poly_reg_model6 = LinearRegression()\n",
    "poly_reg_model6.fit(X6a_train, Y6a_train)\n",
    "\n",
    "poly_reg_y_predicted6 = poly_reg_model6.predict(X6a_test)\n",
    "poly_reg_rmse6 = np.sqrt(mean_squared_error(Y6a_test, poly_reg_y_predicted6))\n",
    "poly_reg_rmse6\n",
    "\n",
    "print(poly_reg_model6.score(poly_features6, Y2))\n",
    "print(poly_reg_model6.coef_)"
   ]
  },
  {
   "cell_type": "markdown",
   "id": "5c1cc800",
   "metadata": {},
   "source": [
    "<h3>Using KNN Regression</h3>"
   ]
  },
  {
   "cell_type": "code",
   "execution_count": 37,
   "id": "deacbc8e",
   "metadata": {},
   "outputs": [
    {
     "name": "stdout",
     "output_type": "stream",
     "text": [
      "KNeighborsRegressor()\n",
      "0.34173785520876454\n"
     ]
    }
   ],
   "source": [
    "X7 = req_spot_data[['key','mode', 'time_signature+tempo' ,'duration_sec', 'explicit']]\n",
    "Y3 = req_spot_data[['valence+danceability']]\n",
    "\n",
    "from sklearn.neighbors import KNeighborsRegressor\n",
    "\n",
    "X7a_train, X7a_test, Y7a_train, Y7a_test = train_test_split(X4, Y1, test_size=0.25,\n",
    "                                                            random_state=42)\n",
    "knn = KNeighborsRegressor(n_neighbors=5)\n",
    "print(knn)\n",
    "knn.fit(X7a_train,Y7a_train)\n",
    "Y7a_pred_test = knn.predict(X7a_test)\n",
    "print(knn.score(X4, Y1))\n",
    "#print(knn.coef_)"
   ]
  },
  {
   "cell_type": "code",
   "execution_count": 38,
   "id": "efc80976",
   "metadata": {},
   "outputs": [
    {
     "name": "stdout",
     "output_type": "stream",
     "text": [
      "KNeighborsRegressor()\n",
      "0.43789533581558504\n"
     ]
    }
   ],
   "source": [
    "X8 = req_spot_data[['popularity', 'speechiness','acousticness', 'instrumentalness','liveness']]\n",
    "Y3 = req_spot_data[['valence+danceability']]\n",
    "\n",
    "X8a_train, X8a_test, Y8a_train, Y8a_test = train_test_split(X8, Y3, test_size=0.25,\n",
    "                                                            random_state=42)\n",
    "knn1 = KNeighborsRegressor(n_neighbors=5)\n",
    "print(knn)\n",
    "knn1.fit(X8a_train,Y8a_train)\n",
    "Y8a_pred_test = knn1.predict(X8a_test)\n",
    "print(knn1.score(X8, Y3))"
   ]
  },
  {
   "cell_type": "markdown",
   "id": "ac93dad2",
   "metadata": {},
   "source": [
    "<p>Let us try using KNN on time duration.</p>"
   ]
  },
  {
   "cell_type": "code",
   "execution_count": 39,
   "id": "ad6a2b29",
   "metadata": {},
   "outputs": [
    {
     "name": "stdout",
     "output_type": "stream",
     "text": [
      "KNeighborsRegressor()\n",
      "0.20070309497685845\n"
     ]
    }
   ],
   "source": [
    "# Using traditional variables\n",
    "X9 = req_spot_data[['key','mode', 'time_signature+tempo','explicit']]\n",
    "Y4 = req_spot_data[['duration_sec']]\n",
    "\n",
    "X9a_train, X9a_test, Y9a_train, Y9a_test = train_test_split(X9, Y4, test_size=0.25,\n",
    "                                                            random_state=42)\n",
    "knn2 = KNeighborsRegressor(n_neighbors=5)\n",
    "print(knn2)\n",
    "knn2.fit(X9a_train,Y9a_train)\n",
    "Y9a_pred_test = knn2.predict(X9a_test)\n",
    "print(knn2.score(X9, Y4))"
   ]
  },
  {
   "cell_type": "code",
   "execution_count": 40,
   "id": "d0da4e91",
   "metadata": {},
   "outputs": [
    {
     "name": "stdout",
     "output_type": "stream",
     "text": [
      "KNeighborsRegressor()\n",
      "0.24210927903039392\n"
     ]
    }
   ],
   "source": [
    "X10 = req_spot_data[['popularity', 'speechiness', 'acousticness', 'instrumentalness','liveness']]\n",
    "Y4 = req_spot_data[['duration_sec']]\n",
    "\n",
    "X10a_train, X10a_test, Y10a_train, Y10a_test = train_test_split(X10, Y4, test_size=0.25,\n",
    "                                                            random_state=42)\n",
    "knn3 = KNeighborsRegressor(n_neighbors=5)\n",
    "print(knn3)\n",
    "knn3.fit(X10a_train,Y10a_train)\n",
    "Y10a_pred_test = knn3.predict(X10a_test)\n",
    "print(knn3.score(X10, Y4))"
   ]
  },
  {
   "cell_type": "code",
   "execution_count": 41,
   "id": "7ea1b81b",
   "metadata": {},
   "outputs": [
    {
     "name": "stdout",
     "output_type": "stream",
     "text": [
      "KNeighborsRegressor()\n",
      "0.3536484953943203\n"
     ]
    }
   ],
   "source": [
    "X9 = req_spot_data[['key','mode', 'time_signature+tempo', 'duration_sec', 'explicit']]\n",
    "Y4 = req_spot_data[['popularity']]\n",
    "\n",
    "from sklearn.neighbors import KNeighborsRegressor\n",
    "\n",
    "X9a_train, X9a_test, Y4a_train, Y4a_test = train_test_split(X9, Y4, test_size=0.25,\n",
    "                                                            random_state=42)\n",
    "knn = KNeighborsRegressor(n_neighbors=5)\n",
    "print(knn)\n",
    "knn.fit(X9a_train,Y4a_train)\n",
    "Y4a_pred_test = knn.predict(X9a_test)\n",
    "print(knn.score(X9, Y4))\n",
    "#print(knn.coef_)"
   ]
  },
  {
   "cell_type": "code",
   "execution_count": 43,
   "id": "12423118",
   "metadata": {},
   "outputs": [
    {
     "name": "stdout",
     "output_type": "stream",
     "text": [
      "KNeighborsRegressor()\n",
      "0.37994060410607966\n"
     ]
    }
   ],
   "source": [
    "X10 = req_spot_data[[ 'speechiness', 'acousticness', 'instrumentalness','liveness']]\n",
    "Y4 = req_spot_data[['popularity']]\n",
    "\n",
    "X10a_train, X10a_test, Y10a_train, Y10a_test = train_test_split(X10, Y4, test_size=0.25,\n",
    "                                                            random_state=42)\n",
    "knn3 = KNeighborsRegressor(n_neighbors=5)\n",
    "print(knn3)\n",
    "knn3.fit(X10a_train,Y10a_train)\n",
    "Y10a_pred_test = knn3.predict(X10a_test)\n",
    "print(knn3.score(X10, Y4))"
   ]
  },
  {
   "cell_type": "code",
   "execution_count": null,
   "id": "fa8f68d7",
   "metadata": {},
   "outputs": [],
   "source": []
  },
  {
   "cell_type": "code",
   "execution_count": null,
   "id": "a72fbca9",
   "metadata": {},
   "outputs": [],
   "source": []
  }
 ],
 "metadata": {
  "kernelspec": {
   "display_name": "base",
   "language": "python",
   "name": "python3"
  },
  "language_info": {
   "codemirror_mode": {
    "name": "ipython",
    "version": 3
   },
   "file_extension": ".py",
   "mimetype": "text/x-python",
   "name": "python",
   "nbconvert_exporter": "python",
   "pygments_lexer": "ipython3",
   "version": "3.8.8"
  },
  "vscode": {
   "interpreter": {
    "hash": "623420a0ac306b5c9acf98402868eb5ad5340febfd70ef6de8d22f0e3d4444c3"
   }
  }
 },
 "nbformat": 4,
 "nbformat_minor": 5
}
